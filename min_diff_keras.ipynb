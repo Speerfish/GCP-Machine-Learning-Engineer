{
 "cells": [
  {
   "cell_type": "markdown",
   "metadata": {
    "id": "YpbnPF_MEv4h"
   },
   "source": [
    "# Mitigating Bias with MinDiff Model Remediation"
   ]
  },
  {
   "cell_type": "markdown",
   "metadata": {},
   "source": [
    "## Learning Objectives\n",
    "- Learn the concept of equal opportunity fairness.\n",
    "- Learn how to apply MinDiff method to a TensorFlow model to mitigate bias."
   ]
  },
  {
   "cell_type": "markdown",
   "metadata": {
    "id": "yMcQGRPHnjP9"
   },
   "source": [
    "## Introduction\n",
    "In this notebook, we’ll train a text classifier to identify written content that could be considered toxic or harmful, and apply MinDiff to remediate some fairness concerns. In our workflow, we will:\n",
    "1.   Train and evaluate our baseline model’s performance on text containing references to sensitive groups.\n",
    "2.   Improve performance on any underperforming groups by training with MinDiff.\n",
    "3.   Evaluate the new model’s performance on our chosen metric.\n",
    "\n",
    "The purpose of this notebook is to demonstrate the usage of the MinDiff technique with a very minimal workflow, not to lay out a principled approach to fairness in machine learning. As such, our evaluation will only focus on one sensitive category and a single metric. We also don’t address potential shortcomings in the dataset, nor tune our configurations in this notebook. \n",
    "\n",
    "In a production setting, you would want to approach each of these with rigor. For more information on evaluating for fairness, see [this guide](https://www.tensorflow.org/responsible_ai/fairness_indicators/guide/guidance).\n"
   ]
  },
  {
   "cell_type": "markdown",
   "metadata": {
    "id": "SlyU3HZpob8i"
   },
   "source": [
    "Import all necessary components, including MinDiff in TensorFlow Model Remediation library."
   ]
  },
  {
   "cell_type": "code",
   "execution_count": 1,
   "metadata": {
    "tags": []
   },
   "outputs": [],
   "source": [
    "import os\n",
    "import warnings\n",
    "\n",
    "os.environ[\"TF_CPP_MIN_LOG_LEVEL\"] = \"2\"\n",
    "warnings.filterwarnings(\"ignore\")"
   ]
  },
  {
   "cell_type": "code",
   "execution_count": 2,
   "metadata": {
    "id": "JYLW8UIsIMrE",
    "tags": []
   },
   "outputs": [],
   "source": [
    "import copy\n",
    "\n",
    "import numpy as np\n",
    "import seaborn as sns\n",
    "import tensorflow as tf\n",
    "import tensorflow_hub as hub\n",
    "import tensorflow_model_remediation.min_diff as md\n",
    "from tensorflow_model_remediation.tools.tutorials_utils import (\n",
    "    min_diff_keras_utils,\n",
    ")"
   ]
  },
  {
   "cell_type": "markdown",
   "metadata": {},
   "source": [
    "## Prepare Dataset"
   ]
  },
  {
   "cell_type": "markdown",
   "metadata": {
    "id": "zPkyRv5_ozdC"
   },
   "source": [
    "We use a utility function to download the preprocessed data and prepare the labels to match the model’s output shape. The function also downloads the data as TFRecords to make later evaluation quicker. Alternatively, you may convert the Pandas DataFrame into TFRecords with any available utility conversion function.\n"
   ]
  },
  {
   "cell_type": "code",
   "execution_count": 3,
   "metadata": {
    "colab": {
     "base_uri": "https://localhost:8080/"
    },
    "id": "-Hw5HdppwuBs",
    "outputId": "23fdc373-69f3-4dcc-bb1c-e0457193d9ee",
    "tags": []
   },
   "outputs": [
    {
     "name": "stdout",
     "output_type": "stream",
     "text": [
      "Downloading data from https://storage.googleapis.com/civil_comments_dataset/train_df_processed.csv\n",
      "345699197/345699197 [==============================] - 4s 0us/step\n",
      "Downloading data from https://storage.googleapis.com/civil_comments_dataset/validate_df_processed.csv\n",
      "229970098/229970098 [==============================] - 3s 0us/step\n",
      "Downloading data from https://storage.googleapis.com/civil_comments_dataset/validate_tf_processed.tfrecord\n",
      "324941336/324941336 [==============================] - 4s 0us/step\n"
     ]
    }
   ],
   "source": [
    "(\n",
    "    data_train,\n",
    "    data_validate,\n",
    "    _,\n",
    "    _,\n",
    "    _,\n",
    ") = min_diff_keras_utils.download_and_process_civil_comments_data()"
   ]
  },
  {
   "cell_type": "markdown",
   "metadata": {},
   "source": [
    "Let's take a look at the dataset."
   ]
  },
  {
   "cell_type": "code",
   "execution_count": 4,
   "metadata": {
    "tags": []
   },
   "outputs": [
    {
     "data": {
      "text/html": [
       "<div>\n",
       "<style scoped>\n",
       "    .dataframe tbody tr th:only-of-type {\n",
       "        vertical-align: middle;\n",
       "    }\n",
       "\n",
       "    .dataframe tbody tr th {\n",
       "        vertical-align: top;\n",
       "    }\n",
       "\n",
       "    .dataframe thead th {\n",
       "        text-align: right;\n",
       "    }\n",
       "</style>\n",
       "<table border=\"1\" class=\"dataframe\">\n",
       "  <thead>\n",
       "    <tr style=\"text-align: right;\">\n",
       "      <th></th>\n",
       "      <th>comment_text</th>\n",
       "      <th>toxicity</th>\n",
       "      <th>gender</th>\n",
       "      <th>sexual_orientation</th>\n",
       "      <th>religion</th>\n",
       "      <th>race</th>\n",
       "      <th>disability</th>\n",
       "    </tr>\n",
       "  </thead>\n",
       "  <tbody>\n",
       "    <tr>\n",
       "      <th>0</th>\n",
       "      <td>Someone should do better homework before they ...</td>\n",
       "      <td>0</td>\n",
       "      <td>[]</td>\n",
       "      <td>[]</td>\n",
       "      <td>[]</td>\n",
       "      <td>[]</td>\n",
       "      <td>[]</td>\n",
       "    </tr>\n",
       "    <tr>\n",
       "      <th>1</th>\n",
       "      <td>Are you mental?  It took so long to extinguish...</td>\n",
       "      <td>0</td>\n",
       "      <td>[]</td>\n",
       "      <td>[]</td>\n",
       "      <td>[]</td>\n",
       "      <td>[]</td>\n",
       "      <td>[]</td>\n",
       "    </tr>\n",
       "    <tr>\n",
       "      <th>2</th>\n",
       "      <td>I doubt you know enough about international tr...</td>\n",
       "      <td>0</td>\n",
       "      <td>[]</td>\n",
       "      <td>[]</td>\n",
       "      <td>[]</td>\n",
       "      <td>[]</td>\n",
       "      <td>[]</td>\n",
       "    </tr>\n",
       "    <tr>\n",
       "      <th>3</th>\n",
       "      <td>It's a total disincentive.   Love the losers o...</td>\n",
       "      <td>0</td>\n",
       "      <td>[]</td>\n",
       "      <td>[]</td>\n",
       "      <td>[]</td>\n",
       "      <td>[]</td>\n",
       "      <td>[]</td>\n",
       "    </tr>\n",
       "    <tr>\n",
       "      <th>4</th>\n",
       "      <td>There are other reasons nobody's following thr...</td>\n",
       "      <td>0</td>\n",
       "      <td>[]</td>\n",
       "      <td>[]</td>\n",
       "      <td>[]</td>\n",
       "      <td>[]</td>\n",
       "      <td>[]</td>\n",
       "    </tr>\n",
       "    <tr>\n",
       "      <th>...</th>\n",
       "      <td>...</td>\n",
       "      <td>...</td>\n",
       "      <td>...</td>\n",
       "      <td>...</td>\n",
       "      <td>...</td>\n",
       "      <td>...</td>\n",
       "      <td>...</td>\n",
       "    </tr>\n",
       "    <tr>\n",
       "      <th>1082919</th>\n",
       "      <td>A very good point. ZLB gives you exposure to a...</td>\n",
       "      <td>0</td>\n",
       "      <td>[]</td>\n",
       "      <td>[]</td>\n",
       "      <td>[]</td>\n",
       "      <td>[]</td>\n",
       "      <td>[]</td>\n",
       "    </tr>\n",
       "    <tr>\n",
       "      <th>1082920</th>\n",
       "      <td>It is clear cut. Right down to the fact that o...</td>\n",
       "      <td>0</td>\n",
       "      <td>[]</td>\n",
       "      <td>[]</td>\n",
       "      <td>[]</td>\n",
       "      <td>[]</td>\n",
       "      <td>[]</td>\n",
       "    </tr>\n",
       "    <tr>\n",
       "      <th>1082921</th>\n",
       "      <td>Where is the humanity in so many of these comm...</td>\n",
       "      <td>0</td>\n",
       "      <td>[]</td>\n",
       "      <td>[]</td>\n",
       "      <td>[]</td>\n",
       "      <td>[]</td>\n",
       "      <td>['psychiatric_or_mental_illness']</td>\n",
       "    </tr>\n",
       "    <tr>\n",
       "      <th>1082922</th>\n",
       "      <td>Richard  You will make many people happy when ...</td>\n",
       "      <td>0</td>\n",
       "      <td>[]</td>\n",
       "      <td>[]</td>\n",
       "      <td>[]</td>\n",
       "      <td>[]</td>\n",
       "      <td>[]</td>\n",
       "    </tr>\n",
       "    <tr>\n",
       "      <th>1082923</th>\n",
       "      <td>Does the robot really cost more?\\n\\nWithout th...</td>\n",
       "      <td>0</td>\n",
       "      <td>[]</td>\n",
       "      <td>[]</td>\n",
       "      <td>[]</td>\n",
       "      <td>[]</td>\n",
       "      <td>[]</td>\n",
       "    </tr>\n",
       "  </tbody>\n",
       "</table>\n",
       "<p>1082924 rows × 7 columns</p>\n",
       "</div>"
      ],
      "text/plain": [
       "                                              comment_text  toxicity gender  \\\n",
       "0        Someone should do better homework before they ...         0     []   \n",
       "1        Are you mental?  It took so long to extinguish...         0     []   \n",
       "2        I doubt you know enough about international tr...         0     []   \n",
       "3        It's a total disincentive.   Love the losers o...         0     []   \n",
       "4        There are other reasons nobody's following thr...         0     []   \n",
       "...                                                    ...       ...    ...   \n",
       "1082919  A very good point. ZLB gives you exposure to a...         0     []   \n",
       "1082920  It is clear cut. Right down to the fact that o...         0     []   \n",
       "1082921  Where is the humanity in so many of these comm...         0     []   \n",
       "1082922  Richard  You will make many people happy when ...         0     []   \n",
       "1082923  Does the robot really cost more?\\n\\nWithout th...         0     []   \n",
       "\n",
       "        sexual_orientation religion race                         disability  \n",
       "0                       []       []   []                                 []  \n",
       "1                       []       []   []                                 []  \n",
       "2                       []       []   []                                 []  \n",
       "3                       []       []   []                                 []  \n",
       "4                       []       []   []                                 []  \n",
       "...                    ...      ...  ...                                ...  \n",
       "1082919                 []       []   []                                 []  \n",
       "1082920                 []       []   []                                 []  \n",
       "1082921                 []       []   []  ['psychiatric_or_mental_illness']  \n",
       "1082922                 []       []   []                                 []  \n",
       "1082923                 []       []   []                                 []  \n",
       "\n",
       "[1082924 rows x 7 columns]"
      ]
     },
     "execution_count": 4,
     "metadata": {},
     "output_type": "execute_result"
    }
   ],
   "source": [
    "data_train"
   ]
  },
  {
   "cell_type": "markdown",
   "metadata": {},
   "source": [
    "The `comment_text` column has text feature and `toxicity` has the label which represents whether the text is toxic or not (1 or 0)."
   ]
  },
  {
   "cell_type": "code",
   "execution_count": 5,
   "metadata": {
    "tags": []
   },
   "outputs": [
    {
     "data": {
      "text/html": [
       "<div>\n",
       "<style scoped>\n",
       "    .dataframe tbody tr th:only-of-type {\n",
       "        vertical-align: middle;\n",
       "    }\n",
       "\n",
       "    .dataframe tbody tr th {\n",
       "        vertical-align: top;\n",
       "    }\n",
       "\n",
       "    .dataframe thead th {\n",
       "        text-align: right;\n",
       "    }\n",
       "</style>\n",
       "<table border=\"1\" class=\"dataframe\">\n",
       "  <thead>\n",
       "    <tr style=\"text-align: right;\">\n",
       "      <th></th>\n",
       "      <th>comment_text</th>\n",
       "      <th>toxicity</th>\n",
       "      <th>gender</th>\n",
       "      <th>sexual_orientation</th>\n",
       "      <th>religion</th>\n",
       "      <th>race</th>\n",
       "      <th>disability</th>\n",
       "    </tr>\n",
       "  </thead>\n",
       "  <tbody>\n",
       "    <tr>\n",
       "      <th>7</th>\n",
       "      <td>The more Hillary opens her mouth the more she ...</td>\n",
       "      <td>1</td>\n",
       "      <td>['female']</td>\n",
       "      <td>[]</td>\n",
       "      <td>[]</td>\n",
       "      <td>[]</td>\n",
       "      <td>[]</td>\n",
       "    </tr>\n",
       "    <tr>\n",
       "      <th>12</th>\n",
       "      <td>All you ever talk about is trolling, you and y...</td>\n",
       "      <td>1</td>\n",
       "      <td>[]</td>\n",
       "      <td>[]</td>\n",
       "      <td>[]</td>\n",
       "      <td>[]</td>\n",
       "      <td>[]</td>\n",
       "    </tr>\n",
       "    <tr>\n",
       "      <th>17</th>\n",
       "      <td>Look, another ignorant, slobbering, mouthbreat...</td>\n",
       "      <td>1</td>\n",
       "      <td>[]</td>\n",
       "      <td>[]</td>\n",
       "      <td>[]</td>\n",
       "      <td>[]</td>\n",
       "      <td>[]</td>\n",
       "    </tr>\n",
       "    <tr>\n",
       "      <th>18</th>\n",
       "      <td>Comment on the update:  It still sucks.</td>\n",
       "      <td>1</td>\n",
       "      <td>[]</td>\n",
       "      <td>[]</td>\n",
       "      <td>[]</td>\n",
       "      <td>[]</td>\n",
       "      <td>[]</td>\n",
       "    </tr>\n",
       "    <tr>\n",
       "      <th>31</th>\n",
       "      <td>But that men who engage in sex with prostitute...</td>\n",
       "      <td>1</td>\n",
       "      <td>['male', 'female']</td>\n",
       "      <td>[]</td>\n",
       "      <td>[]</td>\n",
       "      <td>[]</td>\n",
       "      <td>[]</td>\n",
       "    </tr>\n",
       "  </tbody>\n",
       "</table>\n",
       "</div>"
      ],
      "text/plain": [
       "                                         comment_text  toxicity  \\\n",
       "7   The more Hillary opens her mouth the more she ...         1   \n",
       "12  All you ever talk about is trolling, you and y...         1   \n",
       "17  Look, another ignorant, slobbering, mouthbreat...         1   \n",
       "18            Comment on the update:  It still sucks.         1   \n",
       "31  But that men who engage in sex with prostitute...         1   \n",
       "\n",
       "                gender sexual_orientation religion race disability  \n",
       "7           ['female']                 []       []   []         []  \n",
       "12                  []                 []       []   []         []  \n",
       "17                  []                 []       []   []         []  \n",
       "18                  []                 []       []   []         []  \n",
       "31  ['male', 'female']                 []       []   []         []  "
      ]
     },
     "execution_count": 5,
     "metadata": {},
     "output_type": "execute_result"
    }
   ],
   "source": [
    "data_train[data_train[\"toxicity\"] == 1].head()"
   ]
  },
  {
   "cell_type": "code",
   "execution_count": 6,
   "metadata": {
    "tags": []
   },
   "outputs": [
    {
     "data": {
      "text/plain": [
       "<Axes: xlabel='toxicity', ylabel='Count'>"
      ]
     },
     "execution_count": 6,
     "metadata": {},
     "output_type": "execute_result"
    },
    {
     "data": {
      "image/png": "[encoded data removed]",
      "text/plain": [
       "<Figure size 640x480 with 1 Axes>"
      ]
     },
     "metadata": {},
     "output_type": "display_data"
    }
   ],
   "source": [
    "sns.histplot(data_train.toxicity.apply(str))"
   ]
  },
  {
   "cell_type": "markdown",
   "metadata": {
    "id": "LGum4JXSo-Qu"
   },
   "source": [
    "It looks like the positive (toxic) data is much fewer than the negative (non-toxic) data.\n",
    "\n",
    "We define a few constants. Note that the batch size here is chosen arbitrarily, but in a production setting you would need to tune it for best performance."
   ]
  },
  {
   "cell_type": "code",
   "execution_count": 7,
   "metadata": {
    "id": "Ular7EPMU_Y1",
    "tags": []
   },
   "outputs": [],
   "source": [
    "TEXT_FEATURE = \"comment_text\"\n",
    "LABEL = \"toxicity\"\n",
    "BATCH_SIZE = 512"
   ]
  },
  {
   "cell_type": "markdown",
   "metadata": {},
   "source": [
    "We convert the training data from pandas dataframe to tf.data, and create a generator that yields a batch."
   ]
  },
  {
   "cell_type": "markdown",
   "metadata": {},
   "source": [
    "We also convert our Pandas DataFrames into Tensorflow Datasets.  Note that unlike the Keras model API for Pandas DataFrames, using Datasets means that we need to provide the model’s input features and labels together in one Dataset. Here we provide the `'comment_text'` as an input feature and reshape the label to match the model's expected output.\n",
    "\n",
    "We batch the Dataset at this stage, too."
   ]
  },
  {
   "cell_type": "code",
   "execution_count": 8,
   "metadata": {
    "tags": []
   },
   "outputs": [],
   "source": [
    "def make_dataset(df, batch_size):\n",
    "    dataset = tf.data.Dataset.from_tensor_slices(\n",
    "        (\n",
    "            df[TEXT_FEATURE].values,\n",
    "            df[LABEL].values,\n",
    "        )\n",
    "    ).batch(batch_size)\n",
    "    return dataset\n",
    "\n",
    "\n",
    "dataset_train_main = make_dataset(data_train, BATCH_SIZE)\n",
    "dataset_valid_main = make_dataset(data_validate, BATCH_SIZE)"
   ]
  },
  {
   "cell_type": "markdown",
   "metadata": {
    "id": "D_r-uFyQpbkW"
   },
   "source": [
    "## Define and train the baseline model\n",
    "\n",
    "Let's define a simple baseline model to classify the text toxicity. It is a simple Keras sequential model with an initial embedding and dense layers, outputting a toxicity prediction. "
   ]
  },
  {
   "cell_type": "code",
   "execution_count": 9,
   "metadata": {
    "id": "KcRceFceKyE_",
    "tags": []
   },
   "outputs": [],
   "source": [
    "def build_model():\n",
    "    hub_url = \"https://tfhub.dev/google/tf2-preview/nnlm-en-dim128/1\"\n",
    "\n",
    "    model = tf.keras.Sequential()\n",
    "\n",
    "    # Embedding layer.\n",
    "    hub_layer = hub.KerasLayer(\n",
    "        hub_url, output_shape=[128], input_shape=[], dtype=tf.string\n",
    "    )\n",
    "    model.add(hub_layer)\n",
    "    model.add(tf.keras.layers.Dense(32, activation=\"relu\"))\n",
    "    model.add(tf.keras.layers.Dense(1, activation=\"sigmoid\"))\n",
    "    return model\n",
    "\n",
    "\n",
    "baseline_model = build_model()"
   ]
  },
  {
   "cell_type": "code",
   "execution_count": 10,
   "metadata": {
    "colab": {
     "base_uri": "https://localhost:8080/",
     "height": 600
    },
    "id": "ID6DcW6e9vFM",
    "outputId": "7668a6aa-172c-4591-f7be-bc6e8ea2256e",
    "tags": []
   },
   "outputs": [
    {
     "name": "stdout",
     "output_type": "stream",
     "text": [
      "2116/2116 [==============================] - 20s 9ms/step - loss: 0.2441 - accuracy: 0.9207\n"
     ]
    }
   ],
   "source": [
    "optimizer = tf.keras.optimizers.Adam(learning_rate=0.001)\n",
    "loss = tf.keras.losses.BinaryCrossentropy()\n",
    "baseline_model.compile(optimizer=optimizer, loss=loss, metrics=[\"accuracy\"])\n",
    "\n",
    "history = baseline_model.fit(\n",
    "    x=dataset_train_main, batch_size=BATCH_SIZE, epochs=1\n",
    ")"
   ]
  },
  {
   "cell_type": "code",
   "execution_count": 11,
   "metadata": {
    "tags": []
   },
   "outputs": [
    {
     "name": "stdout",
     "output_type": "stream",
     "text": [
      "1411/1411 [==============================] - 12s 8ms/step - loss: 0.2314 - accuracy: 0.9216\n",
      "Validation Accuracy: 0.921567976474762\n"
     ]
    }
   ],
   "source": [
    "valid_result = baseline_model.evaluate(dataset_valid_main)\n",
    "print(f\"Validation Accuracy: {valid_result[1]}\")"
   ]
  },
  {
   "cell_type": "markdown",
   "metadata": {
    "id": "opFCpJjadf7g"
   },
   "source": [
    "## Prepare data splits for MinDiff\n",
    "\n",
    "To use MinDiff, we create two additional data splits:\n",
    "* A split for non-toxic examples referencing minority groups: In our case, this will include comments with references to our underperforming identity terms.  We don’t include some of the groups because there are too few examples, leading to higher uncertainty with wide confidence interval ranges.\n",
    "* A split for non-toxic examples referencing the majority group.\n",
    "\n",
    "It’s important to have sufficient examples belonging to the underperforming classes. Based on your model architecture, data distribution, and MinDiff configuration, the amount of data needed can vary significantly. In past applications, we have seen MinDiff work well with 5,000 examples in each data split.\n",
    "\n",
    "In our case, the groups in the minority splits have example quantities of 9,688 and 3,906. Note the class imbalances in the dataset; in practice, this could be cause for concern, but we won’t seek to address them in this notebook since our intention is just to demonstrate MinDiff.  \n",
    "\n",
    "We select only negative examples for these groups, so that MinDiff can optimize on getting these examples right. It may seem counterintuitive to carve out sets of ground truth *negative* examples if we’re primarily concerned with disparities in *false positive rate (FPR)*, but remember that a false positive prediction is a ground truth negative example that’s incorrectly classified as positive, which is the issue we’re trying to address."
   ]
  },
  {
   "cell_type": "markdown",
   "metadata": {
    "id": "1QilngDumRfI"
   },
   "source": [
    "### Create splits with DataFrame\n",
    "\n",
    "First, let's create the splits using pandas DataFrame.\n",
    "\n",
    "Note how we define majority and minority in this dataset. And we filter out positive example."
   ]
  },
  {
   "cell_type": "code",
   "execution_count": 12,
   "metadata": {
    "id": "jj4dychpyrqM",
    "tags": []
   },
   "outputs": [],
   "source": [
    "def create_mindiff_datasets(df):\n",
    "    # Create masks for the sensitive and nonsensitive groups\n",
    "    minority_mask = df.religion.apply(\n",
    "        lambda x: any(religion in x for religion in (\"jewish\", \"muslim\"))\n",
    "    )\n",
    "    majority_mask = df.religion.apply(lambda x: x == \"['christian']\")\n",
    "\n",
    "    # Select nontoxic examples, so MinDiff will be able to reduce sensitive FP rate.\n",
    "    true_negative_mask = df[\"toxicity\"] == 0\n",
    "\n",
    "    data_sensitive = df[minority_mask & true_negative_mask]\n",
    "    data_nonsensitive = df[majority_mask & true_negative_mask]\n",
    "    return data_sensitive, data_nonsensitive\n",
    "\n",
    "\n",
    "data_train_sensitive, data_train_nonsensitive = create_mindiff_datasets(\n",
    "    data_train\n",
    ")\n",
    "data_valid_sensitive, data_valid_nonsensitive = create_mindiff_datasets(\n",
    "    data_validate\n",
    ")"
   ]
  },
  {
   "cell_type": "markdown",
   "metadata": {},
   "source": [
    "Now we got two DataFrames for majority and minority."
   ]
  },
  {
   "cell_type": "code",
   "execution_count": 13,
   "metadata": {
    "tags": []
   },
   "outputs": [
    {
     "data": {
      "text/html": [
       "<div>\n",
       "<style scoped>\n",
       "    .dataframe tbody tr th:only-of-type {\n",
       "        vertical-align: middle;\n",
       "    }\n",
       "\n",
       "    .dataframe tbody tr th {\n",
       "        vertical-align: top;\n",
       "    }\n",
       "\n",
       "    .dataframe thead th {\n",
       "        text-align: right;\n",
       "    }\n",
       "</style>\n",
       "<table border=\"1\" class=\"dataframe\">\n",
       "  <thead>\n",
       "    <tr style=\"text-align: right;\">\n",
       "      <th></th>\n",
       "      <th>comment_text</th>\n",
       "      <th>toxicity</th>\n",
       "      <th>gender</th>\n",
       "      <th>sexual_orientation</th>\n",
       "      <th>religion</th>\n",
       "      <th>race</th>\n",
       "      <th>disability</th>\n",
       "    </tr>\n",
       "  </thead>\n",
       "  <tbody>\n",
       "    <tr>\n",
       "      <th>114</th>\n",
       "      <td>Corresponding with relatives in The Netherland...</td>\n",
       "      <td>0</td>\n",
       "      <td>[]</td>\n",
       "      <td>[]</td>\n",
       "      <td>['muslim']</td>\n",
       "      <td>[]</td>\n",
       "      <td>[]</td>\n",
       "    </tr>\n",
       "    <tr>\n",
       "      <th>150</th>\n",
       "      <td>The muslim faith has told the world they\\ninte...</td>\n",
       "      <td>0</td>\n",
       "      <td>[]</td>\n",
       "      <td>[]</td>\n",
       "      <td>['muslim']</td>\n",
       "      <td>[]</td>\n",
       "      <td>[]</td>\n",
       "    </tr>\n",
       "    <tr>\n",
       "      <th>307</th>\n",
       "      <td>The bitter irony of this anti-settlement narra...</td>\n",
       "      <td>0</td>\n",
       "      <td>[]</td>\n",
       "      <td>[]</td>\n",
       "      <td>['jewish']</td>\n",
       "      <td>[]</td>\n",
       "      <td>[]</td>\n",
       "    </tr>\n",
       "    <tr>\n",
       "      <th>358</th>\n",
       "      <td>re: Baber, the local zealot, angrily walks int...</td>\n",
       "      <td>0</td>\n",
       "      <td>[]</td>\n",
       "      <td>[]</td>\n",
       "      <td>['muslim']</td>\n",
       "      <td>[]</td>\n",
       "      <td>[]</td>\n",
       "    </tr>\n",
       "    <tr>\n",
       "      <th>393</th>\n",
       "      <td>Soros is the money source for almost all the m...</td>\n",
       "      <td>0</td>\n",
       "      <td>[]</td>\n",
       "      <td>[]</td>\n",
       "      <td>['muslim']</td>\n",
       "      <td>[]</td>\n",
       "      <td>[]</td>\n",
       "    </tr>\n",
       "  </tbody>\n",
       "</table>\n",
       "</div>"
      ],
      "text/plain": [
       "                                          comment_text  toxicity gender  \\\n",
       "114  Corresponding with relatives in The Netherland...         0     []   \n",
       "150  The muslim faith has told the world they\\ninte...         0     []   \n",
       "307  The bitter irony of this anti-settlement narra...         0     []   \n",
       "358  re: Baber, the local zealot, angrily walks int...         0     []   \n",
       "393  Soros is the money source for almost all the m...         0     []   \n",
       "\n",
       "    sexual_orientation    religion race disability  \n",
       "114                 []  ['muslim']   []         []  \n",
       "150                 []  ['muslim']   []         []  \n",
       "307                 []  ['jewish']   []         []  \n",
       "358                 []  ['muslim']   []         []  \n",
       "393                 []  ['muslim']   []         []  "
      ]
     },
     "execution_count": 13,
     "metadata": {},
     "output_type": "execute_result"
    }
   ],
   "source": [
    "data_train_sensitive.head()"
   ]
  },
  {
   "cell_type": "code",
   "execution_count": 14,
   "metadata": {
    "tags": []
   },
   "outputs": [
    {
     "data": {
      "text/html": [
       "<div>\n",
       "<style scoped>\n",
       "    .dataframe tbody tr th:only-of-type {\n",
       "        vertical-align: middle;\n",
       "    }\n",
       "\n",
       "    .dataframe tbody tr th {\n",
       "        vertical-align: top;\n",
       "    }\n",
       "\n",
       "    .dataframe thead th {\n",
       "        text-align: right;\n",
       "    }\n",
       "</style>\n",
       "<table border=\"1\" class=\"dataframe\">\n",
       "  <thead>\n",
       "    <tr style=\"text-align: right;\">\n",
       "      <th></th>\n",
       "      <th>comment_text</th>\n",
       "      <th>toxicity</th>\n",
       "      <th>gender</th>\n",
       "      <th>sexual_orientation</th>\n",
       "      <th>religion</th>\n",
       "      <th>race</th>\n",
       "      <th>disability</th>\n",
       "    </tr>\n",
       "  </thead>\n",
       "  <tbody>\n",
       "    <tr>\n",
       "      <th>28</th>\n",
       "      <td>It's people like Demboski that give Christians...</td>\n",
       "      <td>0</td>\n",
       "      <td>[]</td>\n",
       "      <td>[]</td>\n",
       "      <td>['christian']</td>\n",
       "      <td>[]</td>\n",
       "      <td>[]</td>\n",
       "    </tr>\n",
       "    <tr>\n",
       "      <th>29</th>\n",
       "      <td>Quite a misstatement.  The pope shows great ba...</td>\n",
       "      <td>0</td>\n",
       "      <td>[]</td>\n",
       "      <td>[]</td>\n",
       "      <td>['christian']</td>\n",
       "      <td>[]</td>\n",
       "      <td>[]</td>\n",
       "    </tr>\n",
       "    <tr>\n",
       "      <th>290</th>\n",
       "      <td>Just more evidence that NCR is the vanguard of...</td>\n",
       "      <td>0</td>\n",
       "      <td>[]</td>\n",
       "      <td>[]</td>\n",
       "      <td>['christian']</td>\n",
       "      <td>[]</td>\n",
       "      <td>[]</td>\n",
       "    </tr>\n",
       "    <tr>\n",
       "      <th>300</th>\n",
       "      <td>Fine. Oppose the death penalty all you want.  ...</td>\n",
       "      <td>0</td>\n",
       "      <td>[]</td>\n",
       "      <td>[]</td>\n",
       "      <td>['christian']</td>\n",
       "      <td>[]</td>\n",
       "      <td>[]</td>\n",
       "    </tr>\n",
       "    <tr>\n",
       "      <th>309</th>\n",
       "      <td>This is not our first trip through your privac...</td>\n",
       "      <td>0</td>\n",
       "      <td>[]</td>\n",
       "      <td>[]</td>\n",
       "      <td>['christian']</td>\n",
       "      <td>[]</td>\n",
       "      <td>[]</td>\n",
       "    </tr>\n",
       "  </tbody>\n",
       "</table>\n",
       "</div>"
      ],
      "text/plain": [
       "                                          comment_text  toxicity gender  \\\n",
       "28   It's people like Demboski that give Christians...         0     []   \n",
       "29   Quite a misstatement.  The pope shows great ba...         0     []   \n",
       "290  Just more evidence that NCR is the vanguard of...         0     []   \n",
       "300  Fine. Oppose the death penalty all you want.  ...         0     []   \n",
       "309  This is not our first trip through your privac...         0     []   \n",
       "\n",
       "    sexual_orientation       religion race disability  \n",
       "28                  []  ['christian']   []         []  \n",
       "29                  []  ['christian']   []         []  \n",
       "290                 []  ['christian']   []         []  \n",
       "300                 []  ['christian']   []         []  \n",
       "309                 []  ['christian']   []         []  "
      ]
     },
     "execution_count": 14,
     "metadata": {},
     "output_type": "execute_result"
    }
   ],
   "source": [
    "data_train_nonsensitive.head()"
   ]
  },
  {
   "cell_type": "markdown",
   "metadata": {
    "id": "yA4Kw9tsmopa"
   },
   "source": [
    "### Create MinDiff Datasets"
   ]
  },
  {
   "cell_type": "markdown",
   "metadata": {
    "id": "3lR_w3LHt6QK"
   },
   "source": [
    "Then, we wrap them in tf.data.Dataset using the `make_dataset` function defined above.\n",
    "\n",
    "Note that we tune the batch size selection the same way it is tuned for the baseline model, taking into account training speed and hardware considerations while balancing with model performance. Here we have chosen the same batch size for all three datasets but this is not a requirement, although it’s good practice to have the two MinDiff batch sizes be equivalent."
   ]
  },
  {
   "cell_type": "code",
   "execution_count": 15,
   "metadata": {
    "tags": []
   },
   "outputs": [],
   "source": [
    "dataset_train_sensitive = make_dataset(data_train_sensitive, BATCH_SIZE)\n",
    "dataset_train_nonsensitive = make_dataset(data_train_nonsensitive, BATCH_SIZE)\n",
    "dataset_valid_sensitive = make_dataset(data_valid_sensitive, BATCH_SIZE)\n",
    "dataset_valid_nonsensitive = make_dataset(data_valid_nonsensitive, BATCH_SIZE)"
   ]
  },
  {
   "cell_type": "markdown",
   "metadata": {},
   "source": [
    "## Baseline Model Evaluation\n",
    "### Check the Prediction distribution\n",
    "\n",
    "Now we have two data splits.\n",
    "\n",
    "Let's take a look at the prediction distribution for majority (nonsensitive) and minority (sensitive) classes using the baseline model.<br>\n",
    "Please remember that we only use negative examples, so ideally the predictions should be closer to 0.0."
   ]
  },
  {
   "cell_type": "code",
   "execution_count": 16,
   "metadata": {
    "tags": []
   },
   "outputs": [
    {
     "data": {
      "image/png": "[encoded data removed]",
      "text/plain": [
       "<Figure size 640x480 with 1 Axes>"
      ]
     },
     "metadata": {},
     "output_type": "display_data"
    }
   ],
   "source": [
    "def visualize_pred_histogram(model):\n",
    "    for (f, l), (non_f, non_l) in zip(\n",
    "        dataset_valid_sensitive.take(1), dataset_valid_nonsensitive.take(1)\n",
    "    ):\n",
    "        res = tf.squeeze(model(f))\n",
    "        non_res = tf.squeeze(model(non_f))\n",
    "        sns.histplot(\n",
    "            {\"sensitive\": res, \"nonsensitive\": non_res},\n",
    "            bins=50,\n",
    "            kde=True,\n",
    "            stat=\"density\",\n",
    "        )\n",
    "\n",
    "\n",
    "visualize_pred_histogram(baseline_model)"
   ]
  },
  {
   "cell_type": "markdown",
   "metadata": {},
   "source": [
    "We can see a distribution difference between splits, and the minority dataset has lower confidence for the negative cases, that will lead to higher false positives."
   ]
  },
  {
   "cell_type": "markdown",
   "metadata": {},
   "source": [
    "### Check FPR"
   ]
  },
  {
   "cell_type": "code",
   "execution_count": 17,
   "metadata": {
    "tags": []
   },
   "outputs": [],
   "source": [
    "def false_positive_rate(y_true, y_pred, thresholds):\n",
    "    fp = tf.keras.metrics.FalsePositives(thresholds=thresholds)\n",
    "    fp.update_state(y_true, y_pred)\n",
    "    fp = fp.result().numpy()\n",
    "\n",
    "    tn = tf.keras.metrics.TrueNegatives(thresholds=thresholds)\n",
    "    tn.update_state(y_true, y_pred)\n",
    "    tn = tn.result().numpy()\n",
    "    return fp / (fp + tn)"
   ]
  },
  {
   "cell_type": "code",
   "execution_count": 18,
   "metadata": {
    "tags": []
   },
   "outputs": [],
   "source": [
    "def compute_fpr(model, thresholds=0.5):\n",
    "    nonsensitive_prediction = model.predict(\n",
    "        data_train_nonsensitive[TEXT_FEATURE], batch_size=BATCH_SIZE, verbose=3\n",
    "    )\n",
    "    sensitive_prediction = model.predict(\n",
    "        data_train_sensitive[TEXT_FEATURE], batch_size=BATCH_SIZE, verbose=3\n",
    "    )\n",
    "\n",
    "    nonsensitive_fpr = false_positive_rate(\n",
    "        data_train_nonsensitive[LABEL].values,\n",
    "        nonsensitive_prediction,\n",
    "        thresholds=thresholds,\n",
    "    )\n",
    "    sensitive_fpr = false_positive_rate(\n",
    "        data_train_sensitive[LABEL].values,\n",
    "        sensitive_prediction,\n",
    "        thresholds=thresholds,\n",
    "    )\n",
    "\n",
    "    print(f\"Nonsensitive FPR: {nonsensitive_fpr:>5.5f}\")\n",
    "    print(f\"Sensitive FPR: {sensitive_fpr:>10.5f}\")"
   ]
  },
  {
   "cell_type": "code",
   "execution_count": 19,
   "metadata": {
    "tags": []
   },
   "outputs": [
    {
     "name": "stdout",
     "output_type": "stream",
     "text": [
      "Nonsensitive FPR: 0.05742\n",
      "Sensitive FPR:    0.14346\n"
     ]
    }
   ],
   "source": [
    "compute_fpr(baseline_model, thresholds=0.2)"
   ]
  },
  {
   "cell_type": "markdown",
   "metadata": {},
   "source": [
    "We can see the baseline model is performing differently on different splits."
   ]
  },
  {
   "cell_type": "markdown",
   "metadata": {
    "id": "CRG6SHR8ryMV"
   },
   "source": [
    "## Define and Train the MinDiff Model\n",
    "\n",
    "Now, we’ll try to improve the FPR for underperforming religious groups. We’ll attempt to do so using [MinDiff](https://arxiv.org/abs/1910.11779), a remediation technique that seeks to balance error rates across slices of your data by penalizing disparities in performance during training. When we apply MinDiff, model performance may degrade slightly on other slices. As such, our goals with MinDiff will be:\n",
    "*   Improved performance for underperforming groups\n",
    "*   Limited degradation for other groups and overall performance\n",
    "\n"
   ]
  },
  {
   "cell_type": "markdown",
   "metadata": {
    "id": "XRGvjZ8VuBvz"
   },
   "source": [
    "To train with MinDiff, we have to follow these steps:\n",
    "\n",
    "- Define the model architecture\n",
    "- Wrap it in a MinDiffModel with a corresponding `loss` and `loss_weight`.  \n",
    "- Compile the model normally (using the regular non-MinDiff loss) and fit to train. \n",
    "\n",
    "For the loss definition, we use 1.5 as the default `loss_weight`, which means how we prioritize the MinDiff loss over the primary cross entropy loss, but this is a parameter that needs to be tuned for your use case, since it depends on your model and product requirements.<br>\n",
    "You can experiment with changing the value to see how it impacts the model, noting that increasing it pushes the performance of the minority and majority groups closer together but may come with more pronounced tradeoffs."
   ]
  },
  {
   "cell_type": "code",
   "execution_count": 20,
   "metadata": {
    "tags": []
   },
   "outputs": [],
   "source": [
    "original_model = build_model()\n",
    "\n",
    "min_diff_loss = md.losses.MMDLoss()\n",
    "min_diff_weight = 1.5\n",
    "\n",
    "min_diff_model = md.keras.MinDiffModel(\n",
    "    original_model, min_diff_loss, min_diff_weight\n",
    ")\n",
    "\n",
    "optimizer = tf.keras.optimizers.Adam(learning_rate=0.001)\n",
    "loss = tf.keras.losses.BinaryCrossentropy()\n",
    "min_diff_model.compile(optimizer=optimizer, loss=loss, metrics=[\"accuracy\"])"
   ]
  },
  {
   "cell_type": "markdown",
   "metadata": {
    "tags": []
   },
   "source": [
    "And we also defines the dataset that will be passed to the MinDiffModel during training.\n",
    "\n",
    "Here we repeat the dataset so that we can train on the same amount as the base model for comparison."
   ]
  },
  {
   "cell_type": "code",
   "execution_count": 21,
   "metadata": {
    "colab": {
     "base_uri": "https://localhost:8080/",
     "height": 686
    },
    "id": "xutVGl9fyikP",
    "outputId": "c6c7759b-9ba6-415c-e84b-dbc4b81f36d3",
    "tags": []
   },
   "outputs": [],
   "source": [
    "min_diff_dataset = md.keras.utils.input_utils.pack_min_diff_data(\n",
    "    original_dataset=dataset_train_main,\n",
    "    sensitive_group_dataset=dataset_train_sensitive,\n",
    "    nonsensitive_group_dataset=dataset_train_nonsensitive,\n",
    ")\n",
    "\n",
    "min_diff_dataset = min_diff_dataset.repeat(\n",
    "    int(\n",
    "        dataset_train_main.cardinality()\n",
    "        // dataset_train_sensitive.cardinality()\n",
    "    )\n",
    ")"
   ]
  },
  {
   "cell_type": "markdown",
   "metadata": {},
   "source": [
    "Now let's execute the MinDiff training."
   ]
  },
  {
   "cell_type": "code",
   "execution_count": 22,
   "metadata": {
    "tags": []
   },
   "outputs": [
    {
     "name": "stdout",
     "output_type": "stream",
     "text": [
      "2100/2100 [==============================] - 88s 40ms/step - loss: 0.2386 - accuracy: 0.9221 - min_diff_loss: 0.0013\n"
     ]
    }
   ],
   "source": [
    "history = min_diff_model.fit(min_diff_dataset, epochs=1)"
   ]
  },
  {
   "cell_type": "markdown",
   "metadata": {
    "id": "doJhbIKVwQdp"
   },
   "source": [
    "Next we evaluate the results.  "
   ]
  },
  {
   "cell_type": "markdown",
   "metadata": {},
   "source": [
    "## MinDiff Model Evaluation"
   ]
  },
  {
   "cell_type": "markdown",
   "metadata": {},
   "source": [
    "Let's take a look at the result by visualizing the prediction distribution again."
   ]
  },
  {
   "cell_type": "code",
   "execution_count": 23,
   "metadata": {
    "tags": []
   },
   "outputs": [
    {
     "data": {
      "image/png": "[encoded data removed]",
      "text/plain": [
       "<Figure size 640x480 with 1 Axes>"
      ]
     },
     "metadata": {},
     "output_type": "display_data"
    }
   ],
   "source": [
    "visualize_pred_histogram(min_diff_model)"
   ]
  },
  {
   "cell_type": "markdown",
   "metadata": {
    "id": "JObiq-mVwUzL"
   },
   "source": [
    "This looks much better sicce the distributions are closer compared to the baseline model.\n",
    "\n",
    "Let's check the FPR as we did for the baseline model."
   ]
  },
  {
   "cell_type": "code",
   "execution_count": 24,
   "metadata": {
    "tags": []
   },
   "outputs": [
    {
     "name": "stdout",
     "output_type": "stream",
     "text": [
      "Nonsensitive FPR: 0.14520\n",
      "Sensitive FPR:    0.15022\n"
     ]
    }
   ],
   "source": [
    "compute_fpr(min_diff_model, thresholds=0.2)"
   ]
  },
  {
   "cell_type": "markdown",
   "metadata": {},
   "source": [
    "FPRs for sensitive and nonsensitive datasets are also very close!\n",
    "\n",
    "In a production setting, we have to pick a threshold to ensure that the model behavior meets launch standards.<br>\n",
    "This threshold may be different from the one you selected for the baseline model. Try selecting false positive rate with threshold 0.300."
   ]
  },
  {
   "cell_type": "code",
   "execution_count": 25,
   "metadata": {
    "tags": []
   },
   "outputs": [
    {
     "name": "stdout",
     "output_type": "stream",
     "text": [
      "Nonsensitive FPR: 0.06205\n",
      "Sensitive FPR:    0.06580\n"
     ]
    }
   ],
   "source": [
    "compute_fpr(min_diff_model, thresholds=0.3)"
   ]
  },
  {
   "cell_type": "markdown",
   "metadata": {},
   "source": [
    "Copyright 2024 Google Inc. Licensed under the Apache License, Version 2.0 (the \"License\"); you may not use this file except in compliance with the License. You may obtain a copy of the License at http://www.apache.org/licenses/LICENSE-2.0 Unless required by applicable law or agreed to in writing, software distributed under the License is distributed on an \"AS IS\" BASIS, WITHOUT WARRANTIES OR CONDITIONS OF ANY KIND, either express or implied. See the License for the specific language governing permissions and limitations under the License"
   ]
  },
  {
   "cell_type": "code",
   "execution_count": null,
   "metadata": {},
   "outputs": [],
   "source": []
  }
 ],
 "metadata": {
  "colab": {
   "name": "min_diff_keras.ipynb",
   "provenance": []
  },
  "environment": {
   "kernel": "python3",
   "name": "tf2-cpu.2-11.m123",
   "type": "gcloud",
   "uri": "us-docker.pkg.dev/deeplearning-platform-release/gcr.io/tf2-cpu.2-11:m123"
  },
  "kernelspec": {
   "display_name": "Python 3 (Local)",
   "language": "python",
   "name": "python3"
  },
  "language_info": {
   "codemirror_mode": {
    "name": "ipython",
    "version": 3
   },
   "file_extension": ".py",
   "mimetype": "text/x-python",
   "name": "python",
   "nbconvert_exporter": "python",
   "pygments_lexer": "ipython3",
   "version": "3.10.14"
  }
 },
 "nbformat": 4,
 "nbformat_minor": 4
}
