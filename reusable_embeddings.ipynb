{
 "cells": [
  {
   "cell_type": "markdown",
   "metadata": {},
   "source": [
    "# Reusable Embeddings\n",
    "\n",
    "**Learning Objectives**\n",
    "1. Learn how to use a pre-trained TF Hub text modules to generate sentence vectors.\n",
    "1. Learn how to incorporate a pre-trained TF-Hub module into a Keras model.\n",
    "\n",
    "\n",
    "## Introduction\n",
    "\n",
    "\n",
    "In this notebook, we will implement text models to recognize the probable source (Github, Tech-Crunch, or The New-York Times) of the titles we have in the title dataset.\n",
    "\n",
    "First, we will load and pre-process the texts and labels so that they are suitable to be fed to sequential Keras models with first layer being TF-hub pre-trained modules. Thanks to this first layer, we won't need to tokenize and integerize the text before passing it to our models. The pre-trained layer will take care of that for us, and consume directly raw text. However, we will still have to one-hot-encode each of the 3 classes into a 3 dimensional basis vector.\n",
    "\n",
    "Then we will build, train and compare simple DNN models starting with different pre-trained TF-Hub layers."
   ]
  },
  {
   "cell_type": "code",
   "execution_count": 1,
   "metadata": {
    "tags": []
   },
   "outputs": [],
   "source": [
    "import os\n",
    "\n",
    "from google.cloud import bigquery\n",
    "import pandas as pd"
   ]
  },
  {
   "cell_type": "code",
   "execution_count": 2,
   "metadata": {
    "tags": []
   },
   "outputs": [
    {
     "name": "stdout",
     "output_type": "stream",
     "text": [
      "The google.cloud.bigquery extension is already loaded. To reload it, use:\n",
      "  %reload_ext google.cloud.bigquery\n"
     ]
    }
   ],
   "source": [
    "%load_ext google.cloud.bigquery"
   ]
  },
  {
   "cell_type": "markdown",
   "metadata": {},
   "source": [
    "Replace the variable values in the cell below:"
   ]
  },
  {
   "cell_type": "code",
   "execution_count": 3,
   "metadata": {
    "tags": []
   },
   "outputs": [],
   "source": [
    "PROJECT = \"qwiklabs-gcp-00-bab8718fd0ad\"  # Replace with your PROJECT\n",
    "BUCKET = PROJECT \n",
    "REGION = \"europe-west4\"  \n",
    "\n",
    "os.environ['PROJECT'] = PROJECT\n",
    "os.environ['BUCKET'] = BUCKET\n",
    "os.environ['REGION'] = REGION"
   ]
  },
  {
   "cell_type": "markdown",
   "metadata": {},
   "source": [
    "## Create a Dataset from BigQuery \n",
    "\n",
    "Hacker news headlines are available as a BigQuery public dataset. The [dataset](https://bigquery.cloud.google.com/table/bigquery-public-data:hacker_news.stories?tab=details) contains all headlines from the sites inception in October 2006 until October 2015. \n",
    "\n",
    "Here is a sample of the dataset:"
   ]
  },
  {
   "cell_type": "code",
   "execution_count": 4,
   "metadata": {
    "tags": []
   },
   "outputs": [
    {
     "data": {
      "application/vnd.jupyter.widget-view+json": {
       "model_id": "ae836d74fd3a4545b493a65c11ff1e8a",
       "version_major": 2,
       "version_minor": 0
      },
      "text/plain": [
       "Query is running:   0%|          |"
      ]
     },
     "metadata": {},
     "output_type": "display_data"
    },
    {
     "data": {
      "application/vnd.jupyter.widget-view+json": {
       "model_id": "ef830473e8ca44749f63b21c1a03adba",
       "version_major": 2,
       "version_minor": 0
      },
      "text/plain": [
       "Downloading:   0%|          |"
      ]
     },
     "metadata": {},
     "output_type": "display_data"
    },
    {
     "data": {
      "text/html": [
       "<div>\n",
       "<style scoped>\n",
       "    .dataframe tbody tr th:only-of-type {\n",
       "        vertical-align: middle;\n",
       "    }\n",
       "\n",
       "    .dataframe tbody tr th {\n",
       "        vertical-align: top;\n",
       "    }\n",
       "\n",
       "    .dataframe thead th {\n",
       "        text-align: right;\n",
       "    }\n",
       "</style>\n",
       "<table border=\"1\" class=\"dataframe\">\n",
       "  <thead>\n",
       "    <tr style=\"text-align: right;\">\n",
       "      <th></th>\n",
       "      <th>url</th>\n",
       "      <th>title</th>\n",
       "      <th>score</th>\n",
       "    </tr>\n",
       "  </thead>\n",
       "  <tbody>\n",
       "    <tr>\n",
       "      <th>0</th>\n",
       "      <td>https://www.bloomberg.com/news/articles/2022-0...</td>\n",
       "      <td>Quant Theorists Are Paid to Delude Themselves</td>\n",
       "      <td>11</td>\n",
       "    </tr>\n",
       "    <tr>\n",
       "      <th>1</th>\n",
       "      <td>http://www.ewanleith.com/blog/472/google-turns...</td>\n",
       "      <td>Google turns inwards</td>\n",
       "      <td>11</td>\n",
       "    </tr>\n",
       "    <tr>\n",
       "      <th>2</th>\n",
       "      <td>https://electrek.co/2022/06/20/tesla-lay-off-h...</td>\n",
       "      <td>Tesla lays off head of LGBTQ+ and diversity le...</td>\n",
       "      <td>11</td>\n",
       "    </tr>\n",
       "    <tr>\n",
       "      <th>3</th>\n",
       "      <td>http://www.amazon.com/</td>\n",
       "      <td>Amazon adds 800 TV Shows, Disney-ABC to Prime ...</td>\n",
       "      <td>11</td>\n",
       "    </tr>\n",
       "    <tr>\n",
       "      <th>4</th>\n",
       "      <td>https://lite.cnn.com/en/article/h_f95169106878...</td>\n",
       "      <td>Wind and solar power are 'bailing out' Texas a...</td>\n",
       "      <td>11</td>\n",
       "    </tr>\n",
       "    <tr>\n",
       "      <th>5</th>\n",
       "      <td>https://www.theregister.com/2022/06/22/amazon_...</td>\n",
       "      <td>Amazon shows off robot warehouse workers that ...</td>\n",
       "      <td>11</td>\n",
       "    </tr>\n",
       "    <tr>\n",
       "      <th>6</th>\n",
       "      <td>https://www.cnn.com/2022/06/19/tech/apple-stor...</td>\n",
       "      <td>Union wins right to represent workers at an Ap...</td>\n",
       "      <td>11</td>\n",
       "    </tr>\n",
       "    <tr>\n",
       "      <th>7</th>\n",
       "      <td>https://www.reuters.com/world/europe/wikipedia...</td>\n",
       "      <td>Wikipedia fights Russian order to remove Ukrai...</td>\n",
       "      <td>11</td>\n",
       "    </tr>\n",
       "    <tr>\n",
       "      <th>8</th>\n",
       "      <td>https://www.newyorker.com/magazine/2022/06/20/...</td>\n",
       "      <td>Yoko Ono’s Art of Defiance</td>\n",
       "      <td>11</td>\n",
       "    </tr>\n",
       "    <tr>\n",
       "      <th>9</th>\n",
       "      <td>https://www.modos.tech/blog/modos-paper-monitor</td>\n",
       "      <td>The Modos Paper Monitor</td>\n",
       "      <td>11</td>\n",
       "    </tr>\n",
       "  </tbody>\n",
       "</table>\n",
       "</div>"
      ],
      "text/plain": [
       "                                                 url  \\\n",
       "0  https://www.bloomberg.com/news/articles/2022-0...   \n",
       "1  http://www.ewanleith.com/blog/472/google-turns...   \n",
       "2  https://electrek.co/2022/06/20/tesla-lay-off-h...   \n",
       "3                             http://www.amazon.com/   \n",
       "4  https://lite.cnn.com/en/article/h_f95169106878...   \n",
       "5  https://www.theregister.com/2022/06/22/amazon_...   \n",
       "6  https://www.cnn.com/2022/06/19/tech/apple-stor...   \n",
       "7  https://www.reuters.com/world/europe/wikipedia...   \n",
       "8  https://www.newyorker.com/magazine/2022/06/20/...   \n",
       "9    https://www.modos.tech/blog/modos-paper-monitor   \n",
       "\n",
       "                                               title  score  \n",
       "0      Quant Theorists Are Paid to Delude Themselves     11  \n",
       "1                               Google turns inwards     11  \n",
       "2  Tesla lays off head of LGBTQ+ and diversity le...     11  \n",
       "3  Amazon adds 800 TV Shows, Disney-ABC to Prime ...     11  \n",
       "4  Wind and solar power are 'bailing out' Texas a...     11  \n",
       "5  Amazon shows off robot warehouse workers that ...     11  \n",
       "6  Union wins right to represent workers at an Ap...     11  \n",
       "7  Wikipedia fights Russian order to remove Ukrai...     11  \n",
       "8                         Yoko Ono’s Art of Defiance     11  \n",
       "9                            The Modos Paper Monitor     11  "
      ]
     },
     "execution_count": 4,
     "metadata": {},
     "output_type": "execute_result"
    }
   ],
   "source": [
    "%%bigquery --project $PROJECT\n",
    "\n",
    "SELECT\n",
    "    url, title, score\n",
    "FROM\n",
    "    `bigquery-public-data.hacker_news.full`\n",
    "WHERE\n",
    "    LENGTH(title) > 10\n",
    "    AND score > 10\n",
    "    AND LENGTH(url) > 0\n",
    "LIMIT 10"
   ]
  },
  {
   "cell_type": "markdown",
   "metadata": {},
   "source": [
    "Let's do some regular expression parsing in BigQuery to get the source of the newspaper article from the URL. For example, if the url is http://mobile.nytimes.com/...., I want to be left with <i>nytimes</i>"
   ]
  },
  {
   "cell_type": "code",
   "execution_count": 5,
   "metadata": {
    "tags": []
   },
   "outputs": [
    {
     "data": {
      "application/vnd.jupyter.widget-view+json": {
       "model_id": "78d5b88ca46847f7b622751ac6d51136",
       "version_major": 2,
       "version_minor": 0
      },
      "text/plain": [
       "Query is running:   0%|          |"
      ]
     },
     "metadata": {},
     "output_type": "display_data"
    },
    {
     "data": {
      "application/vnd.jupyter.widget-view+json": {
       "model_id": "ac54dcd962ce4ed79ba0379c9eea50ca",
       "version_major": 2,
       "version_minor": 0
      },
      "text/plain": [
       "Downloading:   0%|          |"
      ]
     },
     "metadata": {},
     "output_type": "display_data"
    },
    {
     "data": {
      "text/html": [
       "<div>\n",
       "<style scoped>\n",
       "    .dataframe tbody tr th:only-of-type {\n",
       "        vertical-align: middle;\n",
       "    }\n",
       "\n",
       "    .dataframe tbody tr th {\n",
       "        vertical-align: top;\n",
       "    }\n",
       "\n",
       "    .dataframe thead th {\n",
       "        text-align: right;\n",
       "    }\n",
       "</style>\n",
       "<table border=\"1\" class=\"dataframe\">\n",
       "  <thead>\n",
       "    <tr style=\"text-align: right;\">\n",
       "      <th></th>\n",
       "      <th>source</th>\n",
       "      <th>num_articles</th>\n",
       "    </tr>\n",
       "  </thead>\n",
       "  <tbody>\n",
       "    <tr>\n",
       "      <th>0</th>\n",
       "      <td>github</td>\n",
       "      <td>165690</td>\n",
       "    </tr>\n",
       "    <tr>\n",
       "      <th>1</th>\n",
       "      <td>medium</td>\n",
       "      <td>131782</td>\n",
       "    </tr>\n",
       "    <tr>\n",
       "      <th>2</th>\n",
       "      <td>youtube</td>\n",
       "      <td>119462</td>\n",
       "    </tr>\n",
       "    <tr>\n",
       "      <th>3</th>\n",
       "      <td>nytimes</td>\n",
       "      <td>80917</td>\n",
       "    </tr>\n",
       "    <tr>\n",
       "      <th>4</th>\n",
       "      <td>blogspot</td>\n",
       "      <td>61382</td>\n",
       "    </tr>\n",
       "    <tr>\n",
       "      <th>...</th>\n",
       "      <td>...</td>\n",
       "      <td>...</td>\n",
       "    </tr>\n",
       "    <tr>\n",
       "      <th>95</th>\n",
       "      <td>thehackernews</td>\n",
       "      <td>2984</td>\n",
       "    </tr>\n",
       "    <tr>\n",
       "      <th>96</th>\n",
       "      <td>nextplatform</td>\n",
       "      <td>2982</td>\n",
       "    </tr>\n",
       "    <tr>\n",
       "      <th>97</th>\n",
       "      <td>atlasobscura</td>\n",
       "      <td>2981</td>\n",
       "    </tr>\n",
       "    <tr>\n",
       "      <th>98</th>\n",
       "      <td>smithsonianmag</td>\n",
       "      <td>2961</td>\n",
       "    </tr>\n",
       "    <tr>\n",
       "      <th>99</th>\n",
       "      <td>networkworld</td>\n",
       "      <td>2958</td>\n",
       "    </tr>\n",
       "  </tbody>\n",
       "</table>\n",
       "<p>100 rows × 2 columns</p>\n",
       "</div>"
      ],
      "text/plain": [
       "            source  num_articles\n",
       "0           github        165690\n",
       "1           medium        131782\n",
       "2          youtube        119462\n",
       "3          nytimes         80917\n",
       "4         blogspot         61382\n",
       "..             ...           ...\n",
       "95   thehackernews          2984\n",
       "96    nextplatform          2982\n",
       "97    atlasobscura          2981\n",
       "98  smithsonianmag          2961\n",
       "99    networkworld          2958\n",
       "\n",
       "[100 rows x 2 columns]"
      ]
     },
     "execution_count": 5,
     "metadata": {},
     "output_type": "execute_result"
    }
   ],
   "source": [
    "%%bigquery --project $PROJECT\n",
    "\n",
    "SELECT\n",
    "    ARRAY_REVERSE(SPLIT(REGEXP_EXTRACT(url, '.*://(.[^/]+)/'), '.'))[safe_offset (1)] AS source,\n",
    "    COUNT(title) AS num_articles\n",
    "FROM\n",
    "    `bigquery-public-data.hacker_news.full`\n",
    "WHERE\n",
    "    REGEXP_CONTAINS(REGEXP_EXTRACT(url, '.*://(.[^/]+)/'), '.com$')\n",
    "    AND LENGTH(title) > 10\n",
    "GROUP BY\n",
    "    source\n",
    "ORDER BY num_articles DESC\n",
    "  LIMIT 100"
   ]
  },
  {
   "cell_type": "markdown",
   "metadata": {},
   "source": [
    "Now that we have good parsing of the URL to get the source, let's put together a dataset of source and titles. This will be our labeled dataset for machine learning."
   ]
  },
  {
   "cell_type": "code",
   "execution_count": 6,
   "metadata": {
    "tags": []
   },
   "outputs": [
    {
     "name": "stdout",
     "output_type": "stream",
     "text": [
      "\n",
      "SELECT \n",
      "    LOWER(REGEXP_REPLACE(title, '[^a-zA-Z0-9 $.-]', ' ')) AS title,\n",
      "    source\n",
      "FROM\n",
      "  (\n",
      "SELECT\n",
      "    title,\n",
      "    ARRAY_REVERSE(SPLIT(REGEXP_EXTRACT(url, '.*://(.[^/]+)/'), '.'))[safe_offset (1)] AS source\n",
      "    \n",
      "FROM\n",
      "    `bigquery-public-data.hacker_news.full`\n",
      "WHERE\n",
      "    REGEXP_CONTAINS(REGEXP_EXTRACT(url, '.*://(.[^/]+)/'), '.com$')\n",
      "    AND LENGTH(title) > 10\n",
      ")\n",
      "WHERE (source = 'github' OR source = 'nytimes' OR source = 'techcrunch')\n",
      "\n"
     ]
    }
   ],
   "source": [
    "regex = '.*://(.[^/]+)/'\n",
    "\n",
    "\n",
    "sub_query = \"\"\"\n",
    "SELECT\n",
    "    title,\n",
    "    ARRAY_REVERSE(SPLIT(REGEXP_EXTRACT(url, '{0}'), '.'))[safe_offset (1)] AS source\n",
    "    \n",
    "FROM\n",
    "    `bigquery-public-data.hacker_news.full`\n",
    "WHERE\n",
    "    REGEXP_CONTAINS(REGEXP_EXTRACT(url, '{0}'), '.com$')\n",
    "    AND LENGTH(title) > 10\n",
    "\"\"\".format(regex)\n",
    "\n",
    "\n",
    "query = \"\"\"\n",
    "SELECT \n",
    "    LOWER(REGEXP_REPLACE(title, '[^a-zA-Z0-9 $.-]', ' ')) AS title,\n",
    "    source\n",
    "FROM\n",
    "  ({sub_query})\n",
    "WHERE (source = 'github' OR source = 'nytimes' OR source = 'techcrunch')\n",
    "\"\"\".format(sub_query=sub_query)\n",
    "\n",
    "print(query)"
   ]
  },
  {
   "cell_type": "markdown",
   "metadata": {},
   "source": [
    "For ML training, we usually need to split our dataset into training and evaluation datasets (and perhaps an independent test dataset if we are going to do model or feature selection based on the evaluation dataset). AutoML however figures out on its own how to create these splits, so we won't need to do that here. \n",
    "\n"
   ]
  },
  {
   "cell_type": "code",
   "execution_count": 7,
   "metadata": {
    "tags": []
   },
   "outputs": [
    {
     "data": {
      "text/html": [
       "<div>\n",
       "<style scoped>\n",
       "    .dataframe tbody tr th:only-of-type {\n",
       "        vertical-align: middle;\n",
       "    }\n",
       "\n",
       "    .dataframe tbody tr th {\n",
       "        vertical-align: top;\n",
       "    }\n",
       "\n",
       "    .dataframe thead th {\n",
       "        text-align: right;\n",
       "    }\n",
       "</style>\n",
       "<table border=\"1\" class=\"dataframe\">\n",
       "  <thead>\n",
       "    <tr style=\"text-align: right;\">\n",
       "      <th></th>\n",
       "      <th>title</th>\n",
       "      <th>source</th>\n",
       "    </tr>\n",
       "  </thead>\n",
       "  <tbody>\n",
       "    <tr>\n",
       "      <th>0</th>\n",
       "      <td>otto.de open source projects</td>\n",
       "      <td>github</td>\n",
       "    </tr>\n",
       "    <tr>\n",
       "      <th>1</th>\n",
       "      <td>show hn  flighty   a simple structural css fra...</td>\n",
       "      <td>github</td>\n",
       "    </tr>\n",
       "    <tr>\n",
       "      <th>2</th>\n",
       "      <td>show hn  dot   a dotfile synchronisation script</td>\n",
       "      <td>github</td>\n",
       "    </tr>\n",
       "    <tr>\n",
       "      <th>3</th>\n",
       "      <td>template prefetching for angularjs with ui-router</td>\n",
       "      <td>github</td>\n",
       "    </tr>\n",
       "    <tr>\n",
       "      <th>4</th>\n",
       "      <td>show hn   php  psr7 http implementation package</td>\n",
       "      <td>github</td>\n",
       "    </tr>\n",
       "  </tbody>\n",
       "</table>\n",
       "</div>"
      ],
      "text/plain": [
       "                                               title  source\n",
       "0                       otto.de open source projects  github\n",
       "1  show hn  flighty   a simple structural css fra...  github\n",
       "2    show hn  dot   a dotfile synchronisation script  github\n",
       "3  template prefetching for angularjs with ui-router  github\n",
       "4    show hn   php  psr7 http implementation package  github"
      ]
     },
     "execution_count": 7,
     "metadata": {},
     "output_type": "execute_result"
    }
   ],
   "source": [
    "bq = bigquery.Client(project=PROJECT)\n",
    "title_dataset = bq.query(query).to_dataframe()\n",
    "title_dataset.head()"
   ]
  },
  {
   "cell_type": "markdown",
   "metadata": {},
   "source": [
    "AutoML for text classification requires that\n",
    "* the dataset be in csv form with \n",
    "* the first column being the texts to classify or a GCS path to the text \n",
    "* the last colum to be the text labels\n",
    "\n",
    "The dataset we pulled from BiqQuery satisfies these requirements."
   ]
  },
  {
   "cell_type": "code",
   "execution_count": 8,
   "metadata": {
    "tags": []
   },
   "outputs": [
    {
     "name": "stdout",
     "output_type": "stream",
     "text": [
      "The full dataset contains 304365 titles\n"
     ]
    }
   ],
   "source": [
    "print(\"The full dataset contains {n} titles\".format(n=len(title_dataset)))"
   ]
  },
  {
   "cell_type": "markdown",
   "metadata": {},
   "source": [
    "Let's make sure we have roughly the same number of labels for each of our three labels:"
   ]
  },
  {
   "cell_type": "code",
   "execution_count": 9,
   "metadata": {
    "tags": []
   },
   "outputs": [
    {
     "data": {
      "text/plain": [
       "github        165690\n",
       "nytimes        80917\n",
       "techcrunch     57758\n",
       "Name: source, dtype: int64"
      ]
     },
     "execution_count": 9,
     "metadata": {},
     "output_type": "execute_result"
    }
   ],
   "source": [
    "title_dataset.source.value_counts()"
   ]
  },
  {
   "cell_type": "markdown",
   "metadata": {},
   "source": [
    "Finally we will save our data, which is currently in-memory, to disk.\n",
    "\n",
    "We will create a csv file containing the full dataset and another containing only 1000 articles for development.\n",
    "\n",
    "**Note:** It may take a long time to train AutoML on the full dataset, so we recommend to use the sample dataset for the purpose of learning the tool. \n"
   ]
  },
  {
   "cell_type": "code",
   "execution_count": 10,
   "metadata": {
    "tags": []
   },
   "outputs": [],
   "source": [
    "DATADIR = './data/'\n",
    "\n",
    "if not os.path.exists(DATADIR):\n",
    "    os.makedirs(DATADIR)"
   ]
  },
  {
   "cell_type": "code",
   "execution_count": 11,
   "metadata": {
    "tags": []
   },
   "outputs": [],
   "source": [
    "FULL_DATASET_NAME = 'titles_full.csv'\n",
    "FULL_DATASET_PATH = os.path.join(DATADIR, FULL_DATASET_NAME)\n",
    "\n",
    "# Let's shuffle the data before writing it to disk.\n",
    "title_dataset = title_dataset.sample(n=len(title_dataset))\n",
    "\n",
    "title_dataset.to_csv(\n",
    "    FULL_DATASET_PATH, header=False, index=False, encoding='utf-8')"
   ]
  },
  {
   "cell_type": "markdown",
   "metadata": {},
   "source": [
    "Now let's sample 1000 articles from the full dataset and make sure we have enough examples for each label in our sample dataset (see [here](https://cloud.google.com/natural-language/automl/docs/beginners-guide) for further details on how to prepare data for AutoML)."
   ]
  },
  {
   "cell_type": "code",
   "execution_count": 12,
   "metadata": {
    "tags": []
   },
   "outputs": [
    {
     "data": {
      "text/plain": [
       "github        542\n",
       "nytimes       256\n",
       "techcrunch    202\n",
       "Name: source, dtype: int64"
      ]
     },
     "execution_count": 12,
     "metadata": {},
     "output_type": "execute_result"
    }
   ],
   "source": [
    "sample_title_dataset = title_dataset.sample(n=1000)\n",
    "sample_title_dataset.source.value_counts()"
   ]
  },
  {
   "cell_type": "markdown",
   "metadata": {},
   "source": [
    "Let's write the sample datatset to disk."
   ]
  },
  {
   "cell_type": "code",
   "execution_count": 13,
   "metadata": {
    "tags": []
   },
   "outputs": [],
   "source": [
    "SAMPLE_DATASET_NAME = 'titles_sample.csv'\n",
    "SAMPLE_DATASET_PATH = os.path.join(DATADIR, SAMPLE_DATASET_NAME)\n",
    "\n",
    "sample_title_dataset.to_csv(\n",
    "    SAMPLE_DATASET_PATH, header=False, index=False, encoding='utf-8')"
   ]
  },
  {
   "cell_type": "code",
   "execution_count": 14,
   "metadata": {
    "tags": []
   },
   "outputs": [
    {
     "name": "stdout",
     "output_type": "stream",
     "text": [
      "2.6.5\n"
     ]
    }
   ],
   "source": [
    "import datetime\n",
    "import os\n",
    "import shutil\n",
    "\n",
    "import pandas as pd\n",
    "import tensorflow as tf\n",
    "from tensorflow.keras.callbacks import TensorBoard, EarlyStopping\n",
    "from tensorflow_hub import KerasLayer\n",
    "from tensorflow.keras.layers import Dense\n",
    "from tensorflow.keras.models import Sequential\n",
    "from tensorflow.keras.preprocessing.text import Tokenizer\n",
    "from tensorflow.keras.utils import to_categorical\n",
    "\n",
    "\n",
    "print(tf.__version__)"
   ]
  },
  {
   "cell_type": "code",
   "execution_count": 15,
   "metadata": {
    "tags": []
   },
   "outputs": [],
   "source": [
    "%matplotlib inline"
   ]
  },
  {
   "cell_type": "markdown",
   "metadata": {},
   "source": [
    "Let's start by specifying where the information about the trained models will be saved as well as where our dataset is located:"
   ]
  },
  {
   "cell_type": "code",
   "execution_count": 16,
   "metadata": {
    "tags": []
   },
   "outputs": [],
   "source": [
    "MODEL_DIR = \"./text_models\"\n",
    "DATA_DIR = \"./data\""
   ]
  },
  {
   "cell_type": "markdown",
   "metadata": {},
   "source": [
    "## Loading the dataset"
   ]
  },
  {
   "cell_type": "markdown",
   "metadata": {},
   "source": [
    "As in the previous labs, our dataset consists of titles of articles along with the label indicating from which source these articles have been taken from (GitHub, Tech-Crunch, or the New-York Times):"
   ]
  },
  {
   "cell_type": "code",
   "execution_count": 17,
   "metadata": {
    "tags": []
   },
   "outputs": [
    {
     "name": "stdout",
     "output_type": "stream",
     "text": [
      "titles_full.csv  titles_sample.csv\n"
     ]
    }
   ],
   "source": [
    "ls ./data/"
   ]
  },
  {
   "cell_type": "code",
   "execution_count": 18,
   "metadata": {
    "tags": []
   },
   "outputs": [
    {
     "data": {
      "text/html": [
       "<div>\n",
       "<style scoped>\n",
       "    .dataframe tbody tr th:only-of-type {\n",
       "        vertical-align: middle;\n",
       "    }\n",
       "\n",
       "    .dataframe tbody tr th {\n",
       "        vertical-align: top;\n",
       "    }\n",
       "\n",
       "    .dataframe thead th {\n",
       "        text-align: right;\n",
       "    }\n",
       "</style>\n",
       "<table border=\"1\" class=\"dataframe\">\n",
       "  <thead>\n",
       "    <tr style=\"text-align: right;\">\n",
       "      <th></th>\n",
       "      <th>title</th>\n",
       "      <th>source</th>\n",
       "    </tr>\n",
       "  </thead>\n",
       "  <tbody>\n",
       "    <tr>\n",
       "      <th>0</th>\n",
       "      <td>kchat  persistent group chat in  50 lines usin...</td>\n",
       "      <td>github</td>\n",
       "    </tr>\n",
       "    <tr>\n",
       "      <th>1</th>\n",
       "      <td>show hn  headless ravencoin wallet using docke...</td>\n",
       "      <td>github</td>\n",
       "    </tr>\n",
       "    <tr>\n",
       "      <th>2</th>\n",
       "      <td>never thought redux can be so easy</td>\n",
       "      <td>github</td>\n",
       "    </tr>\n",
       "    <tr>\n",
       "      <th>3</th>\n",
       "      <td>sprint and google  will announce a $12 billion...</td>\n",
       "      <td>nytimes</td>\n",
       "    </tr>\n",
       "    <tr>\n",
       "      <th>4</th>\n",
       "      <td>exploring image classification with multimodal...</td>\n",
       "      <td>github</td>\n",
       "    </tr>\n",
       "  </tbody>\n",
       "</table>\n",
       "</div>"
      ],
      "text/plain": [
       "                                               title   source\n",
       "0  kchat  persistent group chat in  50 lines usin...   github\n",
       "1  show hn  headless ravencoin wallet using docke...   github\n",
       "2                 never thought redux can be so easy   github\n",
       "3  sprint and google  will announce a $12 billion...  nytimes\n",
       "4  exploring image classification with multimodal...   github"
      ]
     },
     "execution_count": 18,
     "metadata": {},
     "output_type": "execute_result"
    }
   ],
   "source": [
    "DATASET_NAME = \"titles_full.csv\"\n",
    "TITLE_SAMPLE_PATH = os.path.join(DATA_DIR, DATASET_NAME)\n",
    "COLUMNS = ['title', 'source']\n",
    "\n",
    "titles_df = pd.read_csv(TITLE_SAMPLE_PATH, header=None, names=COLUMNS)\n",
    "titles_df.head()"
   ]
  },
  {
   "cell_type": "markdown",
   "metadata": {},
   "source": [
    "Let's look again at the number of examples per label to make sure we have a well-balanced dataset:"
   ]
  },
  {
   "cell_type": "code",
   "execution_count": 19,
   "metadata": {
    "tags": []
   },
   "outputs": [
    {
     "data": {
      "text/plain": [
       "github        165690\n",
       "nytimes        80917\n",
       "techcrunch     57758\n",
       "Name: source, dtype: int64"
      ]
     },
     "execution_count": 19,
     "metadata": {},
     "output_type": "execute_result"
    }
   ],
   "source": [
    "titles_df.source.value_counts()"
   ]
  },
  {
   "cell_type": "markdown",
   "metadata": {},
   "source": [
    "## Preparing the labels"
   ]
  },
  {
   "cell_type": "markdown",
   "metadata": {},
   "source": [
    "In this lab, we will use pre-trained [TF-Hub embeddings modules for english](https://tfhub.dev/s?q=tf2%20embeddings%20text%20english) for the first layer of our models. One immediate\n",
    "advantage of doing so is that the TF-Hub embedding module will take care for us of processing the raw text. \n",
    "This also means that our model will be able to consume text directly instead of sequences of integers representing the words.\n",
    "\n",
    "However, as before, we still need to preprocess the labels into one-hot-encoded vectors:"
   ]
  },
  {
   "cell_type": "code",
   "execution_count": 20,
   "metadata": {
    "tags": []
   },
   "outputs": [],
   "source": [
    "CLASSES = {\n",
    "    'github': 0,\n",
    "    'nytimes': 1,\n",
    "    'techcrunch': 2\n",
    "}\n",
    "N_CLASSES = len(CLASSES)"
   ]
  },
  {
   "cell_type": "code",
   "execution_count": 21,
   "metadata": {
    "tags": []
   },
   "outputs": [],
   "source": [
    "def encode_labels(sources):\n",
    "    classes = [CLASSES[source] for source in sources]\n",
    "    one_hots = to_categorical(classes, num_classes=N_CLASSES)\n",
    "    return one_hots"
   ]
  },
  {
   "cell_type": "code",
   "execution_count": 22,
   "metadata": {
    "tags": []
   },
   "outputs": [
    {
     "data": {
      "text/plain": [
       "array([[1., 0., 0.],\n",
       "       [1., 0., 0.],\n",
       "       [1., 0., 0.],\n",
       "       [0., 1., 0.]], dtype=float32)"
      ]
     },
     "execution_count": 22,
     "metadata": {},
     "output_type": "execute_result"
    }
   ],
   "source": [
    "encode_labels(titles_df.source[:4])"
   ]
  },
  {
   "cell_type": "markdown",
   "metadata": {},
   "source": [
    "## Preparing the train/test splits"
   ]
  },
  {
   "cell_type": "markdown",
   "metadata": {},
   "source": [
    "Let's split our data into train and test splits:"
   ]
  },
  {
   "cell_type": "code",
   "execution_count": 23,
   "metadata": {
    "tags": []
   },
   "outputs": [],
   "source": [
    "N_TRAIN = int(len(titles_df) * 0.95)\n",
    "\n",
    "titles_train, sources_train = (\n",
    "    titles_df.title[:N_TRAIN], titles_df.source[:N_TRAIN])\n",
    "\n",
    "titles_valid, sources_valid = (\n",
    "    titles_df.title[N_TRAIN:], titles_df.source[N_TRAIN:])"
   ]
  },
  {
   "cell_type": "markdown",
   "metadata": {},
   "source": [
    "To be on the safe side, we verify that the train and test splits\n",
    "have roughly the same number of examples per class.\n",
    "\n",
    "Since it is the case, accuracy will be a good metric to use to measure\n",
    "the performance of our models."
   ]
  },
  {
   "cell_type": "code",
   "execution_count": 24,
   "metadata": {
    "tags": []
   },
   "outputs": [
    {
     "data": {
      "text/plain": [
       "github        157430\n",
       "nytimes        76895\n",
       "techcrunch     54821\n",
       "Name: source, dtype: int64"
      ]
     },
     "execution_count": 24,
     "metadata": {},
     "output_type": "execute_result"
    }
   ],
   "source": [
    "sources_train.value_counts()"
   ]
  },
  {
   "cell_type": "code",
   "execution_count": 25,
   "metadata": {
    "tags": []
   },
   "outputs": [
    {
     "data": {
      "text/plain": [
       "github        8260\n",
       "nytimes       4022\n",
       "techcrunch    2937\n",
       "Name: source, dtype: int64"
      ]
     },
     "execution_count": 25,
     "metadata": {},
     "output_type": "execute_result"
    }
   ],
   "source": [
    "sources_valid.value_counts()"
   ]
  },
  {
   "cell_type": "markdown",
   "metadata": {},
   "source": [
    "Now let's create the features and labels we will feed our models with:"
   ]
  },
  {
   "cell_type": "code",
   "execution_count": 26,
   "metadata": {
    "tags": []
   },
   "outputs": [],
   "source": [
    "X_train, Y_train = titles_train.values, encode_labels(sources_train)\n",
    "X_valid, Y_valid = titles_valid.values, encode_labels(sources_valid)"
   ]
  },
  {
   "cell_type": "code",
   "execution_count": 27,
   "metadata": {
    "tags": []
   },
   "outputs": [
    {
     "data": {
      "text/plain": [
       "array(['kchat  persistent group chat in  50 lines using kdb  k q web sockets  javascript',\n",
       "       'show hn  headless ravencoin wallet using docker and novnc',\n",
       "       'never thought redux can be so easy'], dtype=object)"
      ]
     },
     "execution_count": 27,
     "metadata": {},
     "output_type": "execute_result"
    }
   ],
   "source": [
    "X_train[:3]"
   ]
  },
  {
   "cell_type": "code",
   "execution_count": 28,
   "metadata": {
    "tags": []
   },
   "outputs": [
    {
     "data": {
      "text/plain": [
       "array([[1., 0., 0.],\n",
       "       [1., 0., 0.],\n",
       "       [1., 0., 0.]], dtype=float32)"
      ]
     },
     "execution_count": 28,
     "metadata": {},
     "output_type": "execute_result"
    }
   ],
   "source": [
    "Y_train[:3]"
   ]
  },
  {
   "cell_type": "markdown",
   "metadata": {},
   "source": [
    "## NNLM Model"
   ]
  },
  {
   "cell_type": "markdown",
   "metadata": {},
   "source": [
    "We will first try a word embedding pre-trained using a [Neural Probabilistic Language Model](http://www.jmlr.org/papers/volume3/bengio03a/bengio03a.pdf). TF-Hub has a 50-dimensional one called \n",
    "[nnlm-en-dim50-with-normalization](https://tfhub.dev/google/tf2-preview/nnlm-en-dim50/1), which also\n",
    "normalizes the vectors produced. \n",
    "\n",
    "### Lab Task 1a: Import NNLM TF Hub module into `KerasLayer`\n",
    "\n",
    "Once loaded from its url, the TF-hub module can be used as a normal Keras layer in a sequential or functional model. Since we have enough data to fine-tune the parameters of the pre-trained embedding itself, we will set `trainable=True` in the `KerasLayer` that loads the pre-trained embedding:"
   ]
  },
  {
   "cell_type": "code",
   "execution_count": 29,
   "metadata": {
    "tags": []
   },
   "outputs": [
    {
     "name": "stderr",
     "output_type": "stream",
     "text": [
      "2024-07-19 18:16:04.347717: W tensorflow/stream_executor/platform/default/dso_loader.cc:64] Could not load dynamic library 'libcuda.so.1'; dlerror: libcuda.so.1: cannot open shared object file: No such file or directory; LD_LIBRARY_PATH: /usr/local/cuda/lib64:/usr/local/nccl2/lib:/usr/local/cuda/extras/CUPTI/lib64\n",
      "2024-07-19 18:16:04.347762: W tensorflow/stream_executor/cuda/cuda_driver.cc:269] failed call to cuInit: UNKNOWN ERROR (303)\n",
      "2024-07-19 18:16:04.347794: I tensorflow/stream_executor/cuda/cuda_diagnostics.cc:156] kernel driver does not appear to be running on this host (instance-20240719-120823): /proc/driver/nvidia/version does not exist\n",
      "2024-07-19 18:16:04.348171: I tensorflow/core/platform/cpu_feature_guard.cc:142] This TensorFlow binary is optimized with oneAPI Deep Neural Network Library (oneDNN) to use the following CPU instructions in performance-critical operations:  AVX2 FMA\n",
      "To enable them in other operations, rebuild TensorFlow with the appropriate compiler flags.\n",
      "2024-07-19 18:16:04.427860: I tensorflow/compiler/mlir/mlir_graph_optimization_pass.cc:185] None of the MLIR Optimization Passes are enabled (registered 2)\n"
     ]
    }
   ],
   "source": [
    "# TODO 1\n",
    "NNLM = \"https://tfhub.dev/google/nnlm-en-dim50/2\"\n",
    "\n",
    "nnlm_module = KerasLayer(\n",
    "    NNLM, output_shape=[50], input_shape=[], dtype=tf.string, trainable=True)"
   ]
  },
  {
   "cell_type": "markdown",
   "metadata": {},
   "source": [
    "Note that this TF-Hub embedding produces a single 50-dimensional vector when passed a sentence:"
   ]
  },
  {
   "cell_type": "markdown",
   "metadata": {},
   "source": [
    "### Lab Task 1b: Use module to encode a sentence string"
   ]
  },
  {
   "cell_type": "code",
   "execution_count": 30,
   "metadata": {
    "tags": []
   },
   "outputs": [
    {
     "data": {
      "text/plain": [
       "<tf.Tensor: shape=(1, 50), dtype=float32, numpy=\n",
       "array([[ 0.19331802,  0.05893906,  0.15330684,  0.2505918 ,  0.19369544,\n",
       "         0.03578748,  0.07387847, -0.10962156, -0.11377034,  0.07172022,\n",
       "         0.12458669, -0.02289705, -0.18177685, -0.07084437, -0.00225849,\n",
       "        -0.36875236,  0.05772953, -0.14222091,  0.08765972, -0.14068899,\n",
       "        -0.07005888, -0.20634466,  0.07220475,  0.04258814,  0.0955702 ,\n",
       "         0.19424029, -0.42492998, -0.00706906, -0.02095   , -0.05055764,\n",
       "        -0.18988201, -0.02841404,  0.13222624, -0.01459922, -0.31255388,\n",
       "        -0.09577855,  0.05469003, -0.13858607,  0.01141668, -0.12352604,\n",
       "        -0.07250367, -0.11605677, -0.06976165,  0.14313601, -0.15183711,\n",
       "        -0.06836402,  0.03054246, -0.13259597, -0.14599673,  0.05094011]],\n",
       "      dtype=float32)>"
      ]
     },
     "execution_count": 30,
     "metadata": {},
     "output_type": "execute_result"
    }
   ],
   "source": [
    "# TODO 1\n",
    "nnlm_module(tf.constant([\"The dog is happy to see people in the street.\"]))"
   ]
  },
  {
   "cell_type": "markdown",
   "metadata": {},
   "source": [
    "## Swivel Model"
   ]
  },
  {
   "cell_type": "markdown",
   "metadata": {},
   "source": [
    "Then we will try a word embedding obtained using [Swivel](https://arxiv.org/abs/1602.02215), an algorithm that essentially factorizes word co-occurrence matrices to create the words embeddings. \n",
    "TF-Hub hosts the pretrained [gnews-swivel-20dim-with-oov](https://tfhub.dev/google/tf2-preview/gnews-swivel-20dim-with-oov/1) 20-dimensional Swivel module.\n",
    "\n",
    "### Lab Task 1c: Import Swivel TF Hub module into `KerasLayer`"
   ]
  },
  {
   "cell_type": "code",
   "execution_count": 31,
   "metadata": {
    "tags": []
   },
   "outputs": [],
   "source": [
    "# TODO 1\n",
    "SWIVEL = \"https://tfhub.dev/google/tf2-preview/gnews-swivel-20dim-with-oov/1\"\n",
    "swivel_module = KerasLayer(\n",
    "    SWIVEL, output_shape=[20], input_shape=[], dtype=tf.string, trainable=True)"
   ]
  },
  {
   "cell_type": "markdown",
   "metadata": {},
   "source": [
    "Similarly as the previous pre-trained embedding, it outputs a single vector when passed a sentence:\n",
    "\n",
    "### Lab Task 1d: Use module to encode a sentence string"
   ]
  },
  {
   "cell_type": "code",
   "execution_count": 32,
   "metadata": {
    "tags": []
   },
   "outputs": [
    {
     "data": {
      "text/plain": [
       "<tf.Tensor: shape=(1, 20), dtype=float32, numpy=\n",
       "array([[ 0.9967701 , -0.3100155 ,  0.5889897 , -0.16765082, -0.6171738 ,\n",
       "        -1.1586996 , -0.8619045 ,  0.7281645 ,  0.32575002,  0.4754492 ,\n",
       "        -0.9272241 ,  0.41090095, -0.75389475, -0.31525993, -1.8918804 ,\n",
       "         0.6423996 ,  0.6801622 , -0.1335669 , -1.0017993 , -0.11908641]],\n",
       "      dtype=float32)>"
      ]
     },
     "execution_count": 32,
     "metadata": {},
     "output_type": "execute_result"
    }
   ],
   "source": [
    "# TODO 1\n",
    "swivel_module(tf.constant([\"The dog is happy to see people in the street.\"]))"
   ]
  },
  {
   "cell_type": "markdown",
   "metadata": {},
   "source": [
    "## Building the models"
   ]
  },
  {
   "cell_type": "markdown",
   "metadata": {},
   "source": [
    "Let's write a function that \n",
    "\n",
    "* takes as input an instance of a `KerasLayer` (i.e. the `swivel_module` or the `nnlm_module` we constructed above) as well as the name of the model (say `swivel` or `nnlm`)\n",
    "* returns a compiled Keras sequential model starting with this pre-trained TF-hub layer, adding one or more dense relu layers to it, and ending with a softmax layer giving the probability of each of the classes:\n",
    "\n",
    "### Lab Task 2: Incorporate a pre-trained TF Hub module as first layer of Keras Sequential Model"
   ]
  },
  {
   "cell_type": "code",
   "execution_count": 33,
   "metadata": {
    "tags": []
   },
   "outputs": [],
   "source": [
    "def build_model(hub_module, name):\n",
    "    model = Sequential([\n",
    "        hub_module, # TODO\n",
    "        Dense(16, activation='relu'),\n",
    "        Dense(N_CLASSES, activation='softmax')\n",
    "    ], name=name)\n",
    "\n",
    "    model.compile(\n",
    "        optimizer='adam',\n",
    "        loss='categorical_crossentropy',\n",
    "        metrics=['accuracy']\n",
    "    )\n",
    "    return model"
   ]
  },
  {
   "cell_type": "markdown",
   "metadata": {},
   "source": [
    "Let's also wrap the training code into a `train_and_evaluate` function that \n",
    "* takes as input the training and validation data, as well as the compiled model itself, and the `batch_size`\n",
    "* trains the compiled model for 100 epochs at most, and does early-stopping when the validation loss is no longer decreasing\n",
    "* returns an `history` object, which will help us to plot the learning curves"
   ]
  },
  {
   "cell_type": "code",
   "execution_count": 34,
   "metadata": {
    "tags": []
   },
   "outputs": [],
   "source": [
    "def train_and_evaluate(train_data, val_data, model, batch_size=5000):\n",
    "    X_train, Y_train = train_data\n",
    "\n",
    "    tf.random.set_seed(33)\n",
    "\n",
    "    model_dir = os.path.join(MODEL_DIR, model.name)\n",
    "    if tf.io.gfile.exists(model_dir):\n",
    "        tf.io.gfile.rmtree(model_dir)\n",
    "\n",
    "    history = model.fit(\n",
    "        X_train, Y_train,\n",
    "        epochs=50,\n",
    "        batch_size=batch_size,\n",
    "        validation_data=val_data,\n",
    "        callbacks=TensorBoard(model_dir),\n",
    "    )\n",
    "    return history"
   ]
  },
  {
   "cell_type": "markdown",
   "metadata": {},
   "source": [
    "## Training NNLM"
   ]
  },
  {
   "cell_type": "code",
   "execution_count": 35,
   "metadata": {
    "tags": []
   },
   "outputs": [],
   "source": [
    "data = (X_train, Y_train)\n",
    "val_data = (X_valid, Y_valid)"
   ]
  },
  {
   "cell_type": "code",
   "execution_count": 36,
   "metadata": {
    "tags": []
   },
   "outputs": [
    {
     "name": "stderr",
     "output_type": "stream",
     "text": [
      "2024-07-19 18:17:32.977165: I tensorflow/core/profiler/lib/profiler_session.cc:131] Profiler session initializing.\n",
      "2024-07-19 18:17:32.977220: I tensorflow/core/profiler/lib/profiler_session.cc:146] Profiler session started.\n",
      "2024-07-19 18:17:32.980140: I tensorflow/core/profiler/lib/profiler_session.cc:164] Profiler session tear down.\n"
     ]
    },
    {
     "name": "stdout",
     "output_type": "stream",
     "text": [
      "Epoch 1/50\n",
      " 1/58 [..............................] - ETA: 54s - loss: 1.1317 - accuracy: 0.2346"
     ]
    },
    {
     "name": "stderr",
     "output_type": "stream",
     "text": [
      "2024-07-19 18:17:34.080747: I tensorflow/core/profiler/lib/profiler_session.cc:131] Profiler session initializing.\n",
      "2024-07-19 18:17:34.080793: I tensorflow/core/profiler/lib/profiler_session.cc:146] Profiler session started.\n"
     ]
    },
    {
     "name": "stdout",
     "output_type": "stream",
     "text": [
      " 2/58 [>.............................] - ETA: 25s - loss: 1.1273 - accuracy: 0.2476"
     ]
    },
    {
     "name": "stderr",
     "output_type": "stream",
     "text": [
      "2024-07-19 18:17:34.511567: I tensorflow/core/profiler/lib/profiler_session.cc:66] Profiler session collecting data.\n",
      "2024-07-19 18:17:34.514343: I tensorflow/core/profiler/lib/profiler_session.cc:164] Profiler session tear down.\n",
      "2024-07-19 18:17:34.523733: I tensorflow/core/profiler/rpc/client/save_profile.cc:136] Creating directory: ./text_models/nnlm/train/plugins/profile/2024_07_19_18_17_34\n",
      "\n",
      "2024-07-19 18:17:34.525148: I tensorflow/core/profiler/rpc/client/save_profile.cc:142] Dumped gzipped tool data for trace.json.gz to ./text_models/nnlm/train/plugins/profile/2024_07_19_18_17_34/instance-20240719-120823.trace.json.gz\n",
      "2024-07-19 18:17:34.538383: I tensorflow/core/profiler/rpc/client/save_profile.cc:136] Creating directory: ./text_models/nnlm/train/plugins/profile/2024_07_19_18_17_34\n",
      "\n",
      "2024-07-19 18:17:34.538614: I tensorflow/core/profiler/rpc/client/save_profile.cc:142] Dumped gzipped tool data for memory_profile.json.gz to ./text_models/nnlm/train/plugins/profile/2024_07_19_18_17_34/instance-20240719-120823.memory_profile.json.gz\n",
      "2024-07-19 18:17:34.539054: I tensorflow/core/profiler/rpc/client/capture_profile.cc:251] Creating directory: ./text_models/nnlm/train/plugins/profile/2024_07_19_18_17_34\n",
      "Dumped tool data for xplane.pb to ./text_models/nnlm/train/plugins/profile/2024_07_19_18_17_34/instance-20240719-120823.xplane.pb\n",
      "Dumped tool data for overview_page.pb to ./text_models/nnlm/train/plugins/profile/2024_07_19_18_17_34/instance-20240719-120823.overview_page.pb\n",
      "Dumped tool data for input_pipeline.pb to ./text_models/nnlm/train/plugins/profile/2024_07_19_18_17_34/instance-20240719-120823.input_pipeline.pb\n",
      "Dumped tool data for tensorflow_stats.pb to ./text_models/nnlm/train/plugins/profile/2024_07_19_18_17_34/instance-20240719-120823.tensorflow_stats.pb\n",
      "Dumped tool data for kernel_stats.pb to ./text_models/nnlm/train/plugins/profile/2024_07_19_18_17_34/instance-20240719-120823.kernel_stats.pb\n",
      "\n"
     ]
    },
    {
     "name": "stdout",
     "output_type": "stream",
     "text": [
      "58/58 [==============================] - 26s 435ms/step - loss: 0.9485 - accuracy: 0.6227 - val_loss: 0.7055 - val_accuracy: 0.7691\n",
      "Epoch 2/50\n",
      "58/58 [==============================] - 26s 454ms/step - loss: 0.5126 - accuracy: 0.8255 - val_loss: 0.3850 - val_accuracy: 0.8578\n",
      "Epoch 3/50\n",
      "58/58 [==============================] - 25s 439ms/step - loss: 0.3255 - accuracy: 0.8780 - val_loss: 0.3079 - val_accuracy: 0.8801\n",
      "Epoch 4/50\n",
      "58/58 [==============================] - 26s 443ms/step - loss: 0.2672 - accuracy: 0.8988 - val_loss: 0.2830 - val_accuracy: 0.8892\n",
      "Epoch 5/50\n",
      "58/58 [==============================] - 25s 431ms/step - loss: 0.2379 - accuracy: 0.9100 - val_loss: 0.2725 - val_accuracy: 0.8921\n",
      "Epoch 6/50\n",
      "58/58 [==============================] - 26s 441ms/step - loss: 0.2189 - accuracy: 0.9175 - val_loss: 0.2687 - val_accuracy: 0.8957\n",
      "Epoch 7/50\n",
      "58/58 [==============================] - 26s 447ms/step - loss: 0.2050 - accuracy: 0.9231 - val_loss: 0.2687 - val_accuracy: 0.8955\n",
      "Epoch 8/50\n",
      "58/58 [==============================] - 25s 429ms/step - loss: 0.1944 - accuracy: 0.9275 - val_loss: 0.2701 - val_accuracy: 0.8964\n",
      "Epoch 9/50\n",
      "58/58 [==============================] - 25s 438ms/step - loss: 0.1858 - accuracy: 0.9308 - val_loss: 0.2737 - val_accuracy: 0.8967\n",
      "Epoch 10/50\n",
      "58/58 [==============================] - 25s 431ms/step - loss: 0.1788 - accuracy: 0.9339 - val_loss: 0.2776 - val_accuracy: 0.8963\n",
      "Epoch 11/50\n",
      "58/58 [==============================] - 26s 442ms/step - loss: 0.1729 - accuracy: 0.9363 - val_loss: 0.2821 - val_accuracy: 0.8951\n",
      "Epoch 12/50\n",
      "58/58 [==============================] - 25s 437ms/step - loss: 0.1680 - accuracy: 0.9382 - val_loss: 0.2869 - val_accuracy: 0.8962\n",
      "Epoch 13/50\n",
      "58/58 [==============================] - 25s 439ms/step - loss: 0.1637 - accuracy: 0.9395 - val_loss: 0.2913 - val_accuracy: 0.8950\n",
      "Epoch 14/50\n",
      "58/58 [==============================] - 25s 435ms/step - loss: 0.1600 - accuracy: 0.9410 - val_loss: 0.2963 - val_accuracy: 0.8939\n",
      "Epoch 15/50\n",
      "58/58 [==============================] - 25s 430ms/step - loss: 0.1566 - accuracy: 0.9425 - val_loss: 0.3012 - val_accuracy: 0.8941\n",
      "Epoch 16/50\n",
      "58/58 [==============================] - 25s 437ms/step - loss: 0.1538 - accuracy: 0.9434 - val_loss: 0.3052 - val_accuracy: 0.8938\n",
      "Epoch 17/50\n",
      "58/58 [==============================] - 25s 436ms/step - loss: 0.1510 - accuracy: 0.9445 - val_loss: 0.3106 - val_accuracy: 0.8927\n",
      "Epoch 18/50\n",
      "58/58 [==============================] - 26s 441ms/step - loss: 0.1486 - accuracy: 0.9453 - val_loss: 0.3142 - val_accuracy: 0.8920\n",
      "Epoch 19/50\n",
      "58/58 [==============================] - 25s 430ms/step - loss: 0.1462 - accuracy: 0.9460 - val_loss: 0.3191 - val_accuracy: 0.8918\n",
      "Epoch 20/50\n",
      "58/58 [==============================] - 25s 431ms/step - loss: 0.1441 - accuracy: 0.9470 - val_loss: 0.3226 - val_accuracy: 0.8921\n",
      "Epoch 21/50\n",
      "58/58 [==============================] - 26s 443ms/step - loss: 0.1419 - accuracy: 0.9479 - val_loss: 0.3269 - val_accuracy: 0.8914\n",
      "Epoch 22/50\n",
      "58/58 [==============================] - 25s 440ms/step - loss: 0.1398 - accuracy: 0.9487 - val_loss: 0.3309 - val_accuracy: 0.8913\n",
      "Epoch 23/50\n",
      "58/58 [==============================] - 25s 440ms/step - loss: 0.1378 - accuracy: 0.9493 - val_loss: 0.3349 - val_accuracy: 0.8903\n",
      "Epoch 24/50\n",
      "58/58 [==============================] - 25s 430ms/step - loss: 0.1358 - accuracy: 0.9502 - val_loss: 0.3394 - val_accuracy: 0.8900\n",
      "Epoch 25/50\n",
      "58/58 [==============================] - 26s 442ms/step - loss: 0.1339 - accuracy: 0.9508 - val_loss: 0.3427 - val_accuracy: 0.8890\n",
      "Epoch 26/50\n",
      "58/58 [==============================] - 25s 433ms/step - loss: 0.1320 - accuracy: 0.9515 - val_loss: 0.3466 - val_accuracy: 0.8886\n",
      "Epoch 27/50\n",
      "58/58 [==============================] - 25s 430ms/step - loss: 0.1300 - accuracy: 0.9523 - val_loss: 0.3501 - val_accuracy: 0.8888\n",
      "Epoch 28/50\n",
      "58/58 [==============================] - 26s 442ms/step - loss: 0.1282 - accuracy: 0.9531 - val_loss: 0.3552 - val_accuracy: 0.8892\n",
      "Epoch 29/50\n",
      "58/58 [==============================] - 25s 427ms/step - loss: 0.1262 - accuracy: 0.9539 - val_loss: 0.3590 - val_accuracy: 0.8884\n",
      "Epoch 30/50\n",
      "58/58 [==============================] - 26s 441ms/step - loss: 0.1241 - accuracy: 0.9549 - val_loss: 0.3631 - val_accuracy: 0.8891\n",
      "Epoch 31/50\n",
      "58/58 [==============================] - 26s 441ms/step - loss: 0.1224 - accuracy: 0.9555 - val_loss: 0.3674 - val_accuracy: 0.8872\n",
      "Epoch 32/50\n",
      "58/58 [==============================] - 26s 446ms/step - loss: 0.1204 - accuracy: 0.9563 - val_loss: 0.3717 - val_accuracy: 0.8871\n",
      "Epoch 33/50\n",
      "58/58 [==============================] - 25s 436ms/step - loss: 0.1184 - accuracy: 0.9573 - val_loss: 0.3753 - val_accuracy: 0.8876\n",
      "Epoch 34/50\n",
      "58/58 [==============================] - 25s 435ms/step - loss: 0.1164 - accuracy: 0.9579 - val_loss: 0.3794 - val_accuracy: 0.8871\n",
      "Epoch 35/50\n",
      "58/58 [==============================] - 26s 447ms/step - loss: 0.1145 - accuracy: 0.9586 - val_loss: 0.3841 - val_accuracy: 0.8870\n",
      "Epoch 36/50\n",
      "58/58 [==============================] - 25s 438ms/step - loss: 0.1124 - accuracy: 0.9599 - val_loss: 0.3885 - val_accuracy: 0.8876\n",
      "Epoch 37/50\n",
      "58/58 [==============================] - 25s 440ms/step - loss: 0.1104 - accuracy: 0.9605 - val_loss: 0.3935 - val_accuracy: 0.8878\n",
      "Epoch 38/50\n",
      "58/58 [==============================] - 25s 435ms/step - loss: 0.1085 - accuracy: 0.9612 - val_loss: 0.3992 - val_accuracy: 0.8862\n",
      "Epoch 39/50\n",
      "58/58 [==============================] - 25s 434ms/step - loss: 0.1066 - accuracy: 0.9624 - val_loss: 0.4027 - val_accuracy: 0.8881\n",
      "Epoch 40/50\n",
      "58/58 [==============================] - 25s 434ms/step - loss: 0.1046 - accuracy: 0.9629 - val_loss: 0.4076 - val_accuracy: 0.8873\n",
      "Epoch 41/50\n",
      "58/58 [==============================] - 26s 447ms/step - loss: 0.1027 - accuracy: 0.9638 - val_loss: 0.4119 - val_accuracy: 0.8871\n",
      "Epoch 42/50\n",
      "58/58 [==============================] - 25s 440ms/step - loss: 0.1006 - accuracy: 0.9648 - val_loss: 0.4176 - val_accuracy: 0.8870\n",
      "Epoch 43/50\n",
      "58/58 [==============================] - 25s 436ms/step - loss: 0.0986 - accuracy: 0.9658 - val_loss: 0.4226 - val_accuracy: 0.8877\n",
      "Epoch 44/50\n",
      "58/58 [==============================] - 26s 449ms/step - loss: 0.0968 - accuracy: 0.9664 - val_loss: 0.4285 - val_accuracy: 0.8878\n",
      "Epoch 45/50\n",
      "58/58 [==============================] - 25s 438ms/step - loss: 0.0948 - accuracy: 0.9672 - val_loss: 0.4336 - val_accuracy: 0.8876\n",
      "Epoch 46/50\n",
      "58/58 [==============================] - 25s 433ms/step - loss: 0.0929 - accuracy: 0.9680 - val_loss: 0.4397 - val_accuracy: 0.8870\n",
      "Epoch 47/50\n",
      "58/58 [==============================] - 26s 446ms/step - loss: 0.0910 - accuracy: 0.9689 - val_loss: 0.4450 - val_accuracy: 0.8867\n",
      "Epoch 48/50\n",
      "58/58 [==============================] - 25s 432ms/step - loss: 0.0890 - accuracy: 0.9698 - val_loss: 0.4505 - val_accuracy: 0.8873\n",
      "Epoch 49/50\n",
      "58/58 [==============================] - 26s 443ms/step - loss: 0.0870 - accuracy: 0.9705 - val_loss: 0.4560 - val_accuracy: 0.8867\n",
      "Epoch 50/50\n",
      "58/58 [==============================] - 25s 439ms/step - loss: 0.0851 - accuracy: 0.9714 - val_loss: 0.4632 - val_accuracy: 0.8865\n"
     ]
    }
   ],
   "source": [
    "nnlm_model = build_model(nnlm_module, 'nnlm')\n",
    "nnlm_history = train_and_evaluate(data, val_data, nnlm_model)"
   ]
  },
  {
   "cell_type": "code",
   "execution_count": 37,
   "metadata": {
    "tags": []
   },
   "outputs": [
    {
     "data": {
      "text/plain": [
       "<AxesSubplot: >"
      ]
     },
     "execution_count": 37,
     "metadata": {},
     "output_type": "execute_result"
    },
    {
     "data": {
      "image/png": "[encoded data removed]",
      "text/plain": [
       "<Figure size 640x480 with 1 Axes>"
      ]
     },
     "metadata": {},
     "output_type": "display_data"
    },
    {
     "data": {
      "image/png": "[encoded data removed]",
      "text/plain": [
       "<Figure size 640x480 with 1 Axes>"
      ]
     },
     "metadata": {},
     "output_type": "display_data"
    }
   ],
   "source": [
    "history = nnlm_history\n",
    "pd.DataFrame(history.history)[['loss', 'val_loss']].plot()\n",
    "pd.DataFrame(history.history)[['accuracy', 'val_accuracy']].plot()"
   ]
  },
  {
   "cell_type": "markdown",
   "metadata": {},
   "source": [
    "## Training Swivel"
   ]
  },
  {
   "cell_type": "code",
   "execution_count": 38,
   "metadata": {
    "tags": []
   },
   "outputs": [],
   "source": [
    "swivel_model = build_model(swivel_module, name='swivel')"
   ]
  },
  {
   "cell_type": "code",
   "execution_count": 39,
   "metadata": {
    "tags": []
   },
   "outputs": [
    {
     "name": "stderr",
     "output_type": "stream",
     "text": [
      "2024-07-19 18:39:08.580647: I tensorflow/core/profiler/lib/profiler_session.cc:131] Profiler session initializing.\n",
      "2024-07-19 18:39:08.580720: I tensorflow/core/profiler/lib/profiler_session.cc:146] Profiler session started.\n",
      "2024-07-19 18:39:08.580928: I tensorflow/core/profiler/lib/profiler_session.cc:164] Profiler session tear down.\n"
     ]
    },
    {
     "name": "stdout",
     "output_type": "stream",
     "text": [
      "Epoch 1/50\n",
      " 9/58 [===>..........................] - ETA: 1s - loss: 1.3060 - accuracy: 0.2804"
     ]
    },
    {
     "name": "stderr",
     "output_type": "stream",
     "text": [
      "2024-07-19 18:39:09.120603: I tensorflow/core/profiler/lib/profiler_session.cc:131] Profiler session initializing.\n",
      "2024-07-19 18:39:09.120647: I tensorflow/core/profiler/lib/profiler_session.cc:146] Profiler session started.\n",
      "2024-07-19 18:39:09.170738: I tensorflow/core/profiler/lib/profiler_session.cc:66] Profiler session collecting data.\n",
      "2024-07-19 18:39:09.171816: I tensorflow/core/profiler/lib/profiler_session.cc:164] Profiler session tear down.\n",
      "2024-07-19 18:39:09.173653: I tensorflow/core/profiler/rpc/client/save_profile.cc:136] Creating directory: ./text_models/swivel/train/plugins/profile/2024_07_19_18_39_09\n",
      "\n",
      "2024-07-19 18:39:09.174637: I tensorflow/core/profiler/rpc/client/save_profile.cc:142] Dumped gzipped tool data for trace.json.gz to ./text_models/swivel/train/plugins/profile/2024_07_19_18_39_09/instance-20240719-120823.trace.json.gz\n",
      "2024-07-19 18:39:09.176155: I tensorflow/core/profiler/rpc/client/save_profile.cc:136] Creating directory: ./text_models/swivel/train/plugins/profile/2024_07_19_18_39_09\n",
      "\n",
      "2024-07-19 18:39:09.176280: I tensorflow/core/profiler/rpc/client/save_profile.cc:142] Dumped gzipped tool data for memory_profile.json.gz to ./text_models/swivel/train/plugins/profile/2024_07_19_18_39_09/instance-20240719-120823.memory_profile.json.gz\n",
      "2024-07-19 18:39:09.176617: I tensorflow/core/profiler/rpc/client/capture_profile.cc:251] Creating directory: ./text_models/swivel/train/plugins/profile/2024_07_19_18_39_09\n",
      "Dumped tool data for xplane.pb to ./text_models/swivel/train/plugins/profile/2024_07_19_18_39_09/instance-20240719-120823.xplane.pb\n",
      "Dumped tool data for overview_page.pb to ./text_models/swivel/train/plugins/profile/2024_07_19_18_39_09/instance-20240719-120823.overview_page.pb\n",
      "Dumped tool data for input_pipeline.pb to ./text_models/swivel/train/plugins/profile/2024_07_19_18_39_09/instance-20240719-120823.input_pipeline.pb\n",
      "Dumped tool data for tensorflow_stats.pb to ./text_models/swivel/train/plugins/profile/2024_07_19_18_39_09/instance-20240719-120823.tensorflow_stats.pb\n",
      "Dumped tool data for kernel_stats.pb to ./text_models/swivel/train/plugins/profile/2024_07_19_18_39_09/instance-20240719-120823.kernel_stats.pb\n",
      "\n"
     ]
    },
    {
     "name": "stdout",
     "output_type": "stream",
     "text": [
      "58/58 [==============================] - 2s 24ms/step - loss: 1.0480 - accuracy: 0.4808 - val_loss: 0.8493 - val_accuracy: 0.6403\n",
      "Epoch 2/50\n",
      "58/58 [==============================] - 1s 20ms/step - loss: 0.7664 - accuracy: 0.6746 - val_loss: 0.6878 - val_accuracy: 0.7135\n",
      "Epoch 3/50\n",
      "58/58 [==============================] - 1s 20ms/step - loss: 0.6251 - accuracy: 0.7419 - val_loss: 0.5669 - val_accuracy: 0.7691\n",
      "Epoch 4/50\n",
      "58/58 [==============================] - 1s 20ms/step - loss: 0.5241 - accuracy: 0.7864 - val_loss: 0.4890 - val_accuracy: 0.8019\n",
      "Epoch 5/50\n",
      "58/58 [==============================] - 1s 20ms/step - loss: 0.4618 - accuracy: 0.8117 - val_loss: 0.4438 - val_accuracy: 0.8196\n",
      "Epoch 6/50\n",
      "58/58 [==============================] - 1s 21ms/step - loss: 0.4229 - accuracy: 0.8285 - val_loss: 0.4159 - val_accuracy: 0.8337\n",
      "Epoch 7/50\n",
      "58/58 [==============================] - 1s 20ms/step - loss: 0.3962 - accuracy: 0.8400 - val_loss: 0.3965 - val_accuracy: 0.8400\n",
      "Epoch 8/50\n",
      "58/58 [==============================] - 1s 20ms/step - loss: 0.3766 - accuracy: 0.8488 - val_loss: 0.3827 - val_accuracy: 0.8468\n",
      "Epoch 9/50\n",
      "58/58 [==============================] - 1s 20ms/step - loss: 0.3615 - accuracy: 0.8552 - val_loss: 0.3730 - val_accuracy: 0.8514\n",
      "Epoch 10/50\n",
      "58/58 [==============================] - 1s 21ms/step - loss: 0.3497 - accuracy: 0.8605 - val_loss: 0.3654 - val_accuracy: 0.8544\n",
      "Epoch 11/50\n",
      "58/58 [==============================] - 1s 20ms/step - loss: 0.3402 - accuracy: 0.8646 - val_loss: 0.3596 - val_accuracy: 0.8564\n",
      "Epoch 12/50\n",
      "58/58 [==============================] - 1s 20ms/step - loss: 0.3325 - accuracy: 0.8679 - val_loss: 0.3551 - val_accuracy: 0.8584\n",
      "Epoch 13/50\n",
      "58/58 [==============================] - 1s 20ms/step - loss: 0.3260 - accuracy: 0.8708 - val_loss: 0.3517 - val_accuracy: 0.8602\n",
      "Epoch 14/50\n",
      "58/58 [==============================] - 1s 20ms/step - loss: 0.3206 - accuracy: 0.8731 - val_loss: 0.3488 - val_accuracy: 0.8614\n",
      "Epoch 15/50\n",
      "58/58 [==============================] - 1s 21ms/step - loss: 0.3159 - accuracy: 0.8750 - val_loss: 0.3470 - val_accuracy: 0.8627\n",
      "Epoch 16/50\n",
      "58/58 [==============================] - 1s 20ms/step - loss: 0.3119 - accuracy: 0.8768 - val_loss: 0.3454 - val_accuracy: 0.8633\n",
      "Epoch 17/50\n",
      "58/58 [==============================] - 1s 20ms/step - loss: 0.3084 - accuracy: 0.8780 - val_loss: 0.3442 - val_accuracy: 0.8631\n",
      "Epoch 18/50\n",
      "58/58 [==============================] - 1s 20ms/step - loss: 0.3053 - accuracy: 0.8793 - val_loss: 0.3435 - val_accuracy: 0.8640\n",
      "Epoch 19/50\n",
      "58/58 [==============================] - 1s 20ms/step - loss: 0.3024 - accuracy: 0.8806 - val_loss: 0.3427 - val_accuracy: 0.8638\n",
      "Epoch 20/50\n",
      "58/58 [==============================] - 1s 20ms/step - loss: 0.3000 - accuracy: 0.8817 - val_loss: 0.3430 - val_accuracy: 0.8638\n",
      "Epoch 21/50\n",
      "58/58 [==============================] - 1s 21ms/step - loss: 0.2977 - accuracy: 0.8826 - val_loss: 0.3421 - val_accuracy: 0.8635\n",
      "Epoch 22/50\n",
      "58/58 [==============================] - 1s 20ms/step - loss: 0.2956 - accuracy: 0.8836 - val_loss: 0.3418 - val_accuracy: 0.8637\n",
      "Epoch 23/50\n",
      "58/58 [==============================] - 1s 20ms/step - loss: 0.2937 - accuracy: 0.8846 - val_loss: 0.3418 - val_accuracy: 0.8635\n",
      "Epoch 24/50\n",
      "58/58 [==============================] - 1s 20ms/step - loss: 0.2919 - accuracy: 0.8854 - val_loss: 0.3422 - val_accuracy: 0.8637\n",
      "Epoch 25/50\n",
      "58/58 [==============================] - 1s 21ms/step - loss: 0.2904 - accuracy: 0.8862 - val_loss: 0.3418 - val_accuracy: 0.8637\n",
      "Epoch 26/50\n",
      "58/58 [==============================] - 1s 20ms/step - loss: 0.2888 - accuracy: 0.8866 - val_loss: 0.3422 - val_accuracy: 0.8635\n",
      "Epoch 27/50\n",
      "58/58 [==============================] - 1s 21ms/step - loss: 0.2874 - accuracy: 0.8874 - val_loss: 0.3421 - val_accuracy: 0.8639\n",
      "Epoch 28/50\n",
      "58/58 [==============================] - 1s 20ms/step - loss: 0.2860 - accuracy: 0.8880 - val_loss: 0.3427 - val_accuracy: 0.8642\n",
      "Epoch 29/50\n",
      "58/58 [==============================] - 1s 20ms/step - loss: 0.2848 - accuracy: 0.8885 - val_loss: 0.3427 - val_accuracy: 0.8642\n",
      "Epoch 30/50\n",
      "58/58 [==============================] - 1s 20ms/step - loss: 0.2835 - accuracy: 0.8892 - val_loss: 0.3434 - val_accuracy: 0.8639\n",
      "Epoch 31/50\n",
      "58/58 [==============================] - 1s 20ms/step - loss: 0.2823 - accuracy: 0.8898 - val_loss: 0.3431 - val_accuracy: 0.8635\n",
      "Epoch 32/50\n",
      "58/58 [==============================] - 1s 20ms/step - loss: 0.2812 - accuracy: 0.8902 - val_loss: 0.3435 - val_accuracy: 0.8627\n",
      "Epoch 33/50\n",
      "58/58 [==============================] - 1s 21ms/step - loss: 0.2801 - accuracy: 0.8906 - val_loss: 0.3438 - val_accuracy: 0.8642\n",
      "Epoch 34/50\n",
      "58/58 [==============================] - 1s 20ms/step - loss: 0.2790 - accuracy: 0.8909 - val_loss: 0.3444 - val_accuracy: 0.8634\n",
      "Epoch 35/50\n",
      "58/58 [==============================] - 1s 21ms/step - loss: 0.2780 - accuracy: 0.8914 - val_loss: 0.3440 - val_accuracy: 0.8635\n",
      "Epoch 36/50\n",
      "58/58 [==============================] - 1s 20ms/step - loss: 0.2770 - accuracy: 0.8919 - val_loss: 0.3447 - val_accuracy: 0.8642\n",
      "Epoch 37/50\n",
      "58/58 [==============================] - 1s 20ms/step - loss: 0.2760 - accuracy: 0.8925 - val_loss: 0.3460 - val_accuracy: 0.8642\n",
      "Epoch 38/50\n",
      "58/58 [==============================] - 1s 21ms/step - loss: 0.2750 - accuracy: 0.8932 - val_loss: 0.3457 - val_accuracy: 0.8645\n",
      "Epoch 39/50\n",
      "58/58 [==============================] - 1s 21ms/step - loss: 0.2740 - accuracy: 0.8934 - val_loss: 0.3457 - val_accuracy: 0.8635\n",
      "Epoch 40/50\n",
      "58/58 [==============================] - 1s 20ms/step - loss: 0.2730 - accuracy: 0.8936 - val_loss: 0.3460 - val_accuracy: 0.8633\n",
      "Epoch 41/50\n",
      "58/58 [==============================] - 1s 20ms/step - loss: 0.2720 - accuracy: 0.8942 - val_loss: 0.3465 - val_accuracy: 0.8648\n",
      "Epoch 42/50\n",
      "58/58 [==============================] - 1s 20ms/step - loss: 0.2711 - accuracy: 0.8948 - val_loss: 0.3466 - val_accuracy: 0.8641\n",
      "Epoch 43/50\n",
      "58/58 [==============================] - 1s 20ms/step - loss: 0.2700 - accuracy: 0.8953 - val_loss: 0.3473 - val_accuracy: 0.8649\n",
      "Epoch 44/50\n",
      "58/58 [==============================] - 1s 22ms/step - loss: 0.2691 - accuracy: 0.8957 - val_loss: 0.3475 - val_accuracy: 0.8641\n",
      "Epoch 45/50\n",
      "58/58 [==============================] - 1s 25ms/step - loss: 0.2681 - accuracy: 0.8958 - val_loss: 0.3478 - val_accuracy: 0.8661\n",
      "Epoch 46/50\n",
      "58/58 [==============================] - 1s 24ms/step - loss: 0.2671 - accuracy: 0.8966 - val_loss: 0.3481 - val_accuracy: 0.8655\n",
      "Epoch 47/50\n",
      "58/58 [==============================] - 1s 24ms/step - loss: 0.2662 - accuracy: 0.8967 - val_loss: 0.3487 - val_accuracy: 0.8656\n",
      "Epoch 48/50\n",
      "58/58 [==============================] - 1s 20ms/step - loss: 0.2651 - accuracy: 0.8976 - val_loss: 0.3486 - val_accuracy: 0.8657\n",
      "Epoch 49/50\n",
      "58/58 [==============================] - 1s 21ms/step - loss: 0.2641 - accuracy: 0.8981 - val_loss: 0.3490 - val_accuracy: 0.8664\n",
      "Epoch 50/50\n",
      "58/58 [==============================] - 1s 20ms/step - loss: 0.2631 - accuracy: 0.8986 - val_loss: 0.3502 - val_accuracy: 0.8660\n"
     ]
    }
   ],
   "source": [
    "swivel_history = train_and_evaluate(data, val_data, swivel_model)"
   ]
  },
  {
   "cell_type": "code",
   "execution_count": 40,
   "metadata": {
    "tags": []
   },
   "outputs": [
    {
     "data": {
      "text/plain": [
       "<AxesSubplot: >"
      ]
     },
     "execution_count": 40,
     "metadata": {},
     "output_type": "execute_result"
    },
    {
     "data": {
      "image/png": "[encoded data removed]",
      "text/plain": [
       "<Figure size 640x480 with 1 Axes>"
      ]
     },
     "metadata": {},
     "output_type": "display_data"
    },
    {
     "data": {
      "image/png": "[encoded data removed]",
      "text/plain": [
       "<Figure size 640x480 with 1 Axes>"
      ]
     },
     "metadata": {},
     "output_type": "display_data"
    }
   ],
   "source": [
    "history = swivel_history\n",
    "pd.DataFrame(history.history)[['loss', 'val_loss']].plot()\n",
    "pd.DataFrame(history.history)[['accuracy', 'val_accuracy']].plot()"
   ]
  },
  {
   "cell_type": "markdown",
   "metadata": {},
   "source": [
    "Swivel trains faster but achieves a lower validation accuracy, and requires more epochs to train on."
   ]
  },
  {
   "cell_type": "markdown",
   "metadata": {},
   "source": [
    "## Bonus"
   ]
  },
  {
   "cell_type": "markdown",
   "metadata": {},
   "source": [
    "Try to beat the best model by modifying the model architecture, changing the TF-Hub embedding, and tweaking the training parameters."
   ]
  },
  {
   "cell_type": "markdown",
   "metadata": {},
   "source": [
    "Copyright 2023 Google Inc. Licensed under the Apache License, Version 2.0 (the \"License\"); you may not use this file except in compliance with the License. You may obtain a copy of the License at http://www.apache.org/licenses/LICENSE-2.0 Unless required by applicable law or agreed to in writing, software distributed under the License is distributed on an \"AS IS\" BASIS, WITHOUT WARRANTIES OR CONDITIONS OF ANY KIND, either express or implied. See the License for the specific language governing permissions and limitations under the License"
   ]
  }
 ],
 "metadata": {
  "environment": {
   "kernel": "python3",
   "name": "tf2-gpu.2-6.m120",
   "type": "gcloud",
   "uri": "us-docker.pkg.dev/deeplearning-platform-release/gcr.io/tf2-gpu.2-6:m120"
  },
  "kernelspec": {
   "display_name": "Python 3 (Local)",
   "language": "python",
   "name": "python3"
  },
  "language_info": {
   "codemirror_mode": {
    "name": "ipython",
    "version": 3
   },
   "file_extension": ".py",
   "mimetype": "text/x-python",
   "name": "python",
   "nbconvert_exporter": "python",
   "pygments_lexer": "ipython3",
   "version": "3.9.19"
  }
 },
 "nbformat": 4,
 "nbformat_minor": 4
}
